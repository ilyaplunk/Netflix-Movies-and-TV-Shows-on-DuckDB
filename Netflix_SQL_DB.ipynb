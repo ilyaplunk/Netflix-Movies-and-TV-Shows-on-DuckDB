{
  "cells": [
    {
      "cell_type": "code",
      "execution_count": 1,
      "metadata": {
        "id": "CXEg8X0lzTRS"
      },
      "outputs": [],
      "source": [
        "import pandas as pd\n",
        "import matplotlib.pyplot as plt\n",
        "import seaborn as sns"
      ]
    },
    {
      "cell_type": "markdown",
      "metadata": {},
      "source": [
        "Data source – [https://www.kaggle.com/datasets/shivamb/netflix-shows](https://www.kaggle.com/datasets/shivamb/netflix-shows)"
      ]
    },
    {
      "cell_type": "code",
      "execution_count": null,
      "metadata": {
        "id": "o_Gv1E-BzY4I"
      },
      "outputs": [],
      "source": [
        "df = pd.read_csv('netflix_titles.csv')"
      ]
    },
    {
      "cell_type": "markdown",
      "metadata": {},
      "source": [
        "---"
      ]
    },
    {
      "cell_type": "markdown",
      "metadata": {},
      "source": [
        "### **Data preprocessing**"
      ]
    },
    {
      "cell_type": "markdown",
      "metadata": {
        "id": "vev-qiUG1oDL"
      },
      "source": [
        "**show_id** – unique identifier of the show/movie\n",
        "\n",
        "**type** – content type (Movie / TV Show)\n",
        "\n",
        "**title** – title\n",
        "\n",
        "**director** – director\n",
        "\n",
        "**cast** – cast\n",
        "\n",
        "**country** – country of production\n",
        "\n",
        "**date_added** – date added to the platform\n",
        "\n",
        "**release_year** – year of release\n",
        "\n",
        "**rating** – age rating\n",
        "\n",
        "**duration** – duration (in minutes or seasons)\n",
        "\n",
        "**listed_in** – genres/categories\n",
        "\n",
        "**description** – plot description"
      ]
    },
    {
      "cell_type": "markdown",
      "metadata": {
        "id": "8LpXqw_2J_aV"
      },
      "source": [
        "We are preprocessing the **rating** because duration accidentally got into it."
      ]
    },
    {
      "cell_type": "code",
      "execution_count": 3,
      "metadata": {
        "colab": {
          "base_uri": "https://localhost:8080/",
          "height": 81
        },
        "id": "-hioV1ucKJ3L",
        "outputId": "6684fab3-48fe-4ada-e4ee-dbdc94fefdee"
      },
      "outputs": [
        {
          "data": {
            "application/vnd.microsoft.datawrangler.viewer.v0+json": {
              "columns": [
                {
                  "name": "index",
                  "rawType": "int64",
                  "type": "integer"
                },
                {
                  "name": "rating",
                  "rawType": "object",
                  "type": "string"
                },
                {
                  "name": "duration",
                  "rawType": "object",
                  "type": "unknown"
                }
              ],
              "ref": "c70cbd7f-cacb-4fd6-ad56-e85aa5c610de",
              "rows": [
                [
                  "5813",
                  "66 min",
                  null
                ]
              ],
              "shape": {
                "columns": 2,
                "rows": 1
              }
            },
            "text/html": [
              "<div>\n",
              "<style scoped>\n",
              "    .dataframe tbody tr th:only-of-type {\n",
              "        vertical-align: middle;\n",
              "    }\n",
              "\n",
              "    .dataframe tbody tr th {\n",
              "        vertical-align: top;\n",
              "    }\n",
              "\n",
              "    .dataframe thead th {\n",
              "        text-align: right;\n",
              "    }\n",
              "</style>\n",
              "<table border=\"1\" class=\"dataframe\">\n",
              "  <thead>\n",
              "    <tr style=\"text-align: right;\">\n",
              "      <th></th>\n",
              "      <th>rating</th>\n",
              "      <th>duration</th>\n",
              "    </tr>\n",
              "  </thead>\n",
              "  <tbody>\n",
              "    <tr>\n",
              "      <th>5813</th>\n",
              "      <td>66 min</td>\n",
              "      <td>NaN</td>\n",
              "    </tr>\n",
              "  </tbody>\n",
              "</table>\n",
              "</div>"
            ],
            "text/plain": [
              "      rating duration\n",
              "5813  66 min      NaN"
            ]
          },
          "execution_count": 3,
          "metadata": {},
          "output_type": "execute_result"
        }
      ],
      "source": [
        "# Example\n",
        "df.query('rating == \"66 min\"')[['rating', 'duration']]"
      ]
    },
    {
      "cell_type": "code",
      "execution_count": 4,
      "metadata": {
        "id": "T9rnfm2RJqTU"
      },
      "outputs": [],
      "source": [
        "mask = (df['rating'].str.contains('min', na=False)) & (df['duration'].isna())\n",
        "\n",
        "df.loc[mask, 'duration'] = df.loc[mask, 'rating']\n",
        "df.loc[mask, 'rating'] = None"
      ]
    },
    {
      "cell_type": "code",
      "execution_count": 5,
      "metadata": {
        "colab": {
          "base_uri": "https://localhost:8080/",
          "height": 293
        },
        "id": "JEoAQwc6JI0P",
        "outputId": "a9f58e6c-4129-45b9-dbeb-7346364347d1"
      },
      "outputs": [
        {
          "data": {
            "application/vnd.microsoft.datawrangler.viewer.v0+json": {
              "columns": [
                {
                  "name": "index",
                  "rawType": "int64",
                  "type": "integer"
                },
                {
                  "name": "show_id",
                  "rawType": "object",
                  "type": "string"
                },
                {
                  "name": "type",
                  "rawType": "object",
                  "type": "string"
                },
                {
                  "name": "title",
                  "rawType": "object",
                  "type": "string"
                },
                {
                  "name": "director",
                  "rawType": "object",
                  "type": "unknown"
                },
                {
                  "name": "cast",
                  "rawType": "object",
                  "type": "unknown"
                },
                {
                  "name": "country",
                  "rawType": "object",
                  "type": "unknown"
                },
                {
                  "name": "date_added",
                  "rawType": "object",
                  "type": "string"
                },
                {
                  "name": "release_year",
                  "rawType": "int64",
                  "type": "integer"
                },
                {
                  "name": "rating",
                  "rawType": "object",
                  "type": "string"
                },
                {
                  "name": "duration",
                  "rawType": "object",
                  "type": "string"
                },
                {
                  "name": "listed_in",
                  "rawType": "object",
                  "type": "string"
                },
                {
                  "name": "description",
                  "rawType": "object",
                  "type": "string"
                }
              ],
              "ref": "eae2b1b2-dfb7-477d-9f46-fda68f091e58",
              "rows": [
                [
                  "0",
                  "s1",
                  "Movie",
                  "Dick Johnson Is Dead",
                  "Kirsten Johnson",
                  null,
                  "United States",
                  "September 25, 2021",
                  "2020",
                  "PG-13",
                  "90 min",
                  "Documentaries",
                  "As her father nears the end of his life, filmmaker Kirsten Johnson stages his death in inventive and comical ways to help them both face the inevitable."
                ],
                [
                  "1",
                  "s2",
                  "TV Show",
                  "Blood & Water",
                  null,
                  "Ama Qamata, Khosi Ngema, Gail Mabalane, Thabang Molaba, Dillon Windvogel, Natasha Thahane, Arno Greeff, Xolile Tshabalala, Getmore Sithole, Cindy Mahlangu, Ryle De Morny, Greteli Fincham, Sello Maake Ka-Ncube, Odwa Gwanya, Mekaila Mathys, Sandi Schultz, Duane Williams, Shamilla Miller, Patrick Mofokeng",
                  "South Africa",
                  "September 24, 2021",
                  "2021",
                  "TV-MA",
                  "2 Seasons",
                  "International TV Shows, TV Dramas, TV Mysteries",
                  "After crossing paths at a party, a Cape Town teen sets out to prove whether a private-school swimming star is her sister who was abducted at birth."
                ],
                [
                  "2",
                  "s3",
                  "TV Show",
                  "Ganglands",
                  "Julien Leclercq",
                  "Sami Bouajila, Tracy Gotoas, Samuel Jouy, Nabiha Akkari, Sofia Lesaffre, Salim Kechiouche, Noureddine Farihi, Geert Van Rampelberg, Bakary Diombera",
                  null,
                  "September 24, 2021",
                  "2021",
                  "TV-MA",
                  "1 Season",
                  "Crime TV Shows, International TV Shows, TV Action & Adventure",
                  "To protect his family from a powerful drug lord, skilled thief Mehdi and his expert team of robbers are pulled into a violent and deadly turf war."
                ],
                [
                  "3",
                  "s4",
                  "TV Show",
                  "Jailbirds New Orleans",
                  null,
                  null,
                  null,
                  "September 24, 2021",
                  "2021",
                  "TV-MA",
                  "1 Season",
                  "Docuseries, Reality TV",
                  "Feuds, flirtations and toilet talk go down among the incarcerated women at the Orleans Justice Center in New Orleans on this gritty reality series."
                ],
                [
                  "4",
                  "s5",
                  "TV Show",
                  "Kota Factory",
                  null,
                  "Mayur More, Jitendra Kumar, Ranjan Raj, Alam Khan, Ahsaas Channa, Revathi Pillai, Urvi Singh, Arun Kumar",
                  "India",
                  "September 24, 2021",
                  "2021",
                  "TV-MA",
                  "2 Seasons",
                  "International TV Shows, Romantic TV Shows, TV Comedies",
                  "In a city of coaching centers known to train India’s finest collegiate minds, an earnest but unexceptional student and his friends navigate campus life."
                ]
              ],
              "shape": {
                "columns": 12,
                "rows": 5
              }
            },
            "text/html": [
              "<div>\n",
              "<style scoped>\n",
              "    .dataframe tbody tr th:only-of-type {\n",
              "        vertical-align: middle;\n",
              "    }\n",
              "\n",
              "    .dataframe tbody tr th {\n",
              "        vertical-align: top;\n",
              "    }\n",
              "\n",
              "    .dataframe thead th {\n",
              "        text-align: right;\n",
              "    }\n",
              "</style>\n",
              "<table border=\"1\" class=\"dataframe\">\n",
              "  <thead>\n",
              "    <tr style=\"text-align: right;\">\n",
              "      <th></th>\n",
              "      <th>show_id</th>\n",
              "      <th>type</th>\n",
              "      <th>title</th>\n",
              "      <th>director</th>\n",
              "      <th>cast</th>\n",
              "      <th>country</th>\n",
              "      <th>date_added</th>\n",
              "      <th>release_year</th>\n",
              "      <th>rating</th>\n",
              "      <th>duration</th>\n",
              "      <th>listed_in</th>\n",
              "      <th>description</th>\n",
              "    </tr>\n",
              "  </thead>\n",
              "  <tbody>\n",
              "    <tr>\n",
              "      <th>0</th>\n",
              "      <td>s1</td>\n",
              "      <td>Movie</td>\n",
              "      <td>Dick Johnson Is Dead</td>\n",
              "      <td>Kirsten Johnson</td>\n",
              "      <td>NaN</td>\n",
              "      <td>United States</td>\n",
              "      <td>September 25, 2021</td>\n",
              "      <td>2020</td>\n",
              "      <td>PG-13</td>\n",
              "      <td>90 min</td>\n",
              "      <td>Documentaries</td>\n",
              "      <td>As her father nears the end of his life, filmm...</td>\n",
              "    </tr>\n",
              "    <tr>\n",
              "      <th>1</th>\n",
              "      <td>s2</td>\n",
              "      <td>TV Show</td>\n",
              "      <td>Blood &amp; Water</td>\n",
              "      <td>NaN</td>\n",
              "      <td>Ama Qamata, Khosi Ngema, Gail Mabalane, Thaban...</td>\n",
              "      <td>South Africa</td>\n",
              "      <td>September 24, 2021</td>\n",
              "      <td>2021</td>\n",
              "      <td>TV-MA</td>\n",
              "      <td>2 Seasons</td>\n",
              "      <td>International TV Shows, TV Dramas, TV Mysteries</td>\n",
              "      <td>After crossing paths at a party, a Cape Town t...</td>\n",
              "    </tr>\n",
              "    <tr>\n",
              "      <th>2</th>\n",
              "      <td>s3</td>\n",
              "      <td>TV Show</td>\n",
              "      <td>Ganglands</td>\n",
              "      <td>Julien Leclercq</td>\n",
              "      <td>Sami Bouajila, Tracy Gotoas, Samuel Jouy, Nabi...</td>\n",
              "      <td>NaN</td>\n",
              "      <td>September 24, 2021</td>\n",
              "      <td>2021</td>\n",
              "      <td>TV-MA</td>\n",
              "      <td>1 Season</td>\n",
              "      <td>Crime TV Shows, International TV Shows, TV Act...</td>\n",
              "      <td>To protect his family from a powerful drug lor...</td>\n",
              "    </tr>\n",
              "    <tr>\n",
              "      <th>3</th>\n",
              "      <td>s4</td>\n",
              "      <td>TV Show</td>\n",
              "      <td>Jailbirds New Orleans</td>\n",
              "      <td>NaN</td>\n",
              "      <td>NaN</td>\n",
              "      <td>NaN</td>\n",
              "      <td>September 24, 2021</td>\n",
              "      <td>2021</td>\n",
              "      <td>TV-MA</td>\n",
              "      <td>1 Season</td>\n",
              "      <td>Docuseries, Reality TV</td>\n",
              "      <td>Feuds, flirtations and toilet talk go down amo...</td>\n",
              "    </tr>\n",
              "    <tr>\n",
              "      <th>4</th>\n",
              "      <td>s5</td>\n",
              "      <td>TV Show</td>\n",
              "      <td>Kota Factory</td>\n",
              "      <td>NaN</td>\n",
              "      <td>Mayur More, Jitendra Kumar, Ranjan Raj, Alam K...</td>\n",
              "      <td>India</td>\n",
              "      <td>September 24, 2021</td>\n",
              "      <td>2021</td>\n",
              "      <td>TV-MA</td>\n",
              "      <td>2 Seasons</td>\n",
              "      <td>International TV Shows, Romantic TV Shows, TV ...</td>\n",
              "      <td>In a city of coaching centers known to train I...</td>\n",
              "    </tr>\n",
              "  </tbody>\n",
              "</table>\n",
              "</div>"
            ],
            "text/plain": [
              "  show_id     type                  title         director  \\\n",
              "0      s1    Movie   Dick Johnson Is Dead  Kirsten Johnson   \n",
              "1      s2  TV Show          Blood & Water              NaN   \n",
              "2      s3  TV Show              Ganglands  Julien Leclercq   \n",
              "3      s4  TV Show  Jailbirds New Orleans              NaN   \n",
              "4      s5  TV Show           Kota Factory              NaN   \n",
              "\n",
              "                                                cast        country  \\\n",
              "0                                                NaN  United States   \n",
              "1  Ama Qamata, Khosi Ngema, Gail Mabalane, Thaban...   South Africa   \n",
              "2  Sami Bouajila, Tracy Gotoas, Samuel Jouy, Nabi...            NaN   \n",
              "3                                                NaN            NaN   \n",
              "4  Mayur More, Jitendra Kumar, Ranjan Raj, Alam K...          India   \n",
              "\n",
              "           date_added  release_year rating   duration  \\\n",
              "0  September 25, 2021          2020  PG-13     90 min   \n",
              "1  September 24, 2021          2021  TV-MA  2 Seasons   \n",
              "2  September 24, 2021          2021  TV-MA   1 Season   \n",
              "3  September 24, 2021          2021  TV-MA   1 Season   \n",
              "4  September 24, 2021          2021  TV-MA  2 Seasons   \n",
              "\n",
              "                                           listed_in  \\\n",
              "0                                      Documentaries   \n",
              "1    International TV Shows, TV Dramas, TV Mysteries   \n",
              "2  Crime TV Shows, International TV Shows, TV Act...   \n",
              "3                             Docuseries, Reality TV   \n",
              "4  International TV Shows, Romantic TV Shows, TV ...   \n",
              "\n",
              "                                         description  \n",
              "0  As her father nears the end of his life, filmm...  \n",
              "1  After crossing paths at a party, a Cape Town t...  \n",
              "2  To protect his family from a powerful drug lor...  \n",
              "3  Feuds, flirtations and toilet talk go down amo...  \n",
              "4  In a city of coaching centers known to train I...  "
            ]
          },
          "execution_count": 5,
          "metadata": {},
          "output_type": "execute_result"
        }
      ],
      "source": [
        "df.head()"
      ]
    },
    {
      "cell_type": "code",
      "execution_count": 6,
      "metadata": {
        "colab": {
          "base_uri": "https://localhost:8080/"
        },
        "id": "yCjq-AxW1crD",
        "outputId": "4a348434-fa0e-4595-eaa6-8f07ddf249c5"
      },
      "outputs": [
        {
          "data": {
            "text/plain": [
              "Index(['show_id', 'type', 'title', 'director', 'cast', 'country', 'date_added',\n",
              "       'release_year', 'rating', 'duration', 'listed_in', 'description'],\n",
              "      dtype='object')"
            ]
          },
          "execution_count": 6,
          "metadata": {},
          "output_type": "execute_result"
        }
      ],
      "source": [
        "df.columns"
      ]
    },
    {
      "cell_type": "markdown",
      "metadata": {
        "id": "N8vMfKWu7d0B"
      },
      "source": [
        "**Content type**"
      ]
    },
    {
      "cell_type": "code",
      "execution_count": 7,
      "metadata": {
        "id": "mP-Q_W0W7gOO"
      },
      "outputs": [],
      "source": [
        "content_types_df = pd.DataFrame({\n",
        "    'id': [1, 2],\n",
        "    'name': ['Movie', 'TV Show']\n",
        "})"
      ]
    },
    {
      "cell_type": "markdown",
      "metadata": {
        "id": "48NVkfKD7sUm"
      },
      "source": [
        "**Main**"
      ]
    },
    {
      "cell_type": "code",
      "execution_count": 8,
      "metadata": {
        "id": "UZCmFAzt7mLg"
      },
      "outputs": [],
      "source": [
        "shows_df = df[['show_id', 'title', 'date_added', 'release_year', 'rating', 'duration', 'description']].copy()\n",
        "\n",
        "shows_df['type_id'] = df['type'].map({'Movie': 1, 'TV Show': 2})\n",
        "\n",
        "shows_df['date_added'] = pd.to_datetime(shows_df['date_added'], errors='coerce', format='mixed')"
      ]
    },
    {
      "cell_type": "code",
      "execution_count": 9,
      "metadata": {
        "colab": {
          "base_uri": "https://localhost:8080/",
          "height": 206
        },
        "id": "SrBUsuvf79n8",
        "outputId": "3b946afd-c221-4b2b-982e-e7e1094a5348"
      },
      "outputs": [
        {
          "data": {
            "application/vnd.microsoft.datawrangler.viewer.v0+json": {
              "columns": [
                {
                  "name": "index",
                  "rawType": "int64",
                  "type": "integer"
                },
                {
                  "name": "show_id",
                  "rawType": "object",
                  "type": "string"
                },
                {
                  "name": "title",
                  "rawType": "object",
                  "type": "string"
                },
                {
                  "name": "date_added",
                  "rawType": "datetime64[ns]",
                  "type": "datetime"
                },
                {
                  "name": "release_year",
                  "rawType": "int64",
                  "type": "integer"
                },
                {
                  "name": "rating",
                  "rawType": "object",
                  "type": "string"
                },
                {
                  "name": "duration",
                  "rawType": "object",
                  "type": "string"
                },
                {
                  "name": "description",
                  "rawType": "object",
                  "type": "string"
                },
                {
                  "name": "type_id",
                  "rawType": "int64",
                  "type": "integer"
                }
              ],
              "ref": "d31de174-c297-4128-aac4-227e26629b46",
              "rows": [
                [
                  "0",
                  "s1",
                  "Dick Johnson Is Dead",
                  "2021-09-25 00:00:00",
                  "2020",
                  "PG-13",
                  "90 min",
                  "As her father nears the end of his life, filmmaker Kirsten Johnson stages his death in inventive and comical ways to help them both face the inevitable.",
                  "1"
                ],
                [
                  "1",
                  "s2",
                  "Blood & Water",
                  "2021-09-24 00:00:00",
                  "2021",
                  "TV-MA",
                  "2 Seasons",
                  "After crossing paths at a party, a Cape Town teen sets out to prove whether a private-school swimming star is her sister who was abducted at birth.",
                  "2"
                ],
                [
                  "2",
                  "s3",
                  "Ganglands",
                  "2021-09-24 00:00:00",
                  "2021",
                  "TV-MA",
                  "1 Season",
                  "To protect his family from a powerful drug lord, skilled thief Mehdi and his expert team of robbers are pulled into a violent and deadly turf war.",
                  "2"
                ],
                [
                  "3",
                  "s4",
                  "Jailbirds New Orleans",
                  "2021-09-24 00:00:00",
                  "2021",
                  "TV-MA",
                  "1 Season",
                  "Feuds, flirtations and toilet talk go down among the incarcerated women at the Orleans Justice Center in New Orleans on this gritty reality series.",
                  "2"
                ],
                [
                  "4",
                  "s5",
                  "Kota Factory",
                  "2021-09-24 00:00:00",
                  "2021",
                  "TV-MA",
                  "2 Seasons",
                  "In a city of coaching centers known to train India’s finest collegiate minds, an earnest but unexceptional student and his friends navigate campus life.",
                  "2"
                ]
              ],
              "shape": {
                "columns": 8,
                "rows": 5
              }
            },
            "text/html": [
              "<div>\n",
              "<style scoped>\n",
              "    .dataframe tbody tr th:only-of-type {\n",
              "        vertical-align: middle;\n",
              "    }\n",
              "\n",
              "    .dataframe tbody tr th {\n",
              "        vertical-align: top;\n",
              "    }\n",
              "\n",
              "    .dataframe thead th {\n",
              "        text-align: right;\n",
              "    }\n",
              "</style>\n",
              "<table border=\"1\" class=\"dataframe\">\n",
              "  <thead>\n",
              "    <tr style=\"text-align: right;\">\n",
              "      <th></th>\n",
              "      <th>show_id</th>\n",
              "      <th>title</th>\n",
              "      <th>date_added</th>\n",
              "      <th>release_year</th>\n",
              "      <th>rating</th>\n",
              "      <th>duration</th>\n",
              "      <th>description</th>\n",
              "      <th>type_id</th>\n",
              "    </tr>\n",
              "  </thead>\n",
              "  <tbody>\n",
              "    <tr>\n",
              "      <th>0</th>\n",
              "      <td>s1</td>\n",
              "      <td>Dick Johnson Is Dead</td>\n",
              "      <td>2021-09-25</td>\n",
              "      <td>2020</td>\n",
              "      <td>PG-13</td>\n",
              "      <td>90 min</td>\n",
              "      <td>As her father nears the end of his life, filmm...</td>\n",
              "      <td>1</td>\n",
              "    </tr>\n",
              "    <tr>\n",
              "      <th>1</th>\n",
              "      <td>s2</td>\n",
              "      <td>Blood &amp; Water</td>\n",
              "      <td>2021-09-24</td>\n",
              "      <td>2021</td>\n",
              "      <td>TV-MA</td>\n",
              "      <td>2 Seasons</td>\n",
              "      <td>After crossing paths at a party, a Cape Town t...</td>\n",
              "      <td>2</td>\n",
              "    </tr>\n",
              "    <tr>\n",
              "      <th>2</th>\n",
              "      <td>s3</td>\n",
              "      <td>Ganglands</td>\n",
              "      <td>2021-09-24</td>\n",
              "      <td>2021</td>\n",
              "      <td>TV-MA</td>\n",
              "      <td>1 Season</td>\n",
              "      <td>To protect his family from a powerful drug lor...</td>\n",
              "      <td>2</td>\n",
              "    </tr>\n",
              "    <tr>\n",
              "      <th>3</th>\n",
              "      <td>s4</td>\n",
              "      <td>Jailbirds New Orleans</td>\n",
              "      <td>2021-09-24</td>\n",
              "      <td>2021</td>\n",
              "      <td>TV-MA</td>\n",
              "      <td>1 Season</td>\n",
              "      <td>Feuds, flirtations and toilet talk go down amo...</td>\n",
              "      <td>2</td>\n",
              "    </tr>\n",
              "    <tr>\n",
              "      <th>4</th>\n",
              "      <td>s5</td>\n",
              "      <td>Kota Factory</td>\n",
              "      <td>2021-09-24</td>\n",
              "      <td>2021</td>\n",
              "      <td>TV-MA</td>\n",
              "      <td>2 Seasons</td>\n",
              "      <td>In a city of coaching centers known to train I...</td>\n",
              "      <td>2</td>\n",
              "    </tr>\n",
              "  </tbody>\n",
              "</table>\n",
              "</div>"
            ],
            "text/plain": [
              "  show_id                  title date_added  release_year rating   duration  \\\n",
              "0      s1   Dick Johnson Is Dead 2021-09-25          2020  PG-13     90 min   \n",
              "1      s2          Blood & Water 2021-09-24          2021  TV-MA  2 Seasons   \n",
              "2      s3              Ganglands 2021-09-24          2021  TV-MA   1 Season   \n",
              "3      s4  Jailbirds New Orleans 2021-09-24          2021  TV-MA   1 Season   \n",
              "4      s5           Kota Factory 2021-09-24          2021  TV-MA  2 Seasons   \n",
              "\n",
              "                                         description  type_id  \n",
              "0  As her father nears the end of his life, filmm...        1  \n",
              "1  After crossing paths at a party, a Cape Town t...        2  \n",
              "2  To protect his family from a powerful drug lor...        2  \n",
              "3  Feuds, flirtations and toilet talk go down amo...        2  \n",
              "4  In a city of coaching centers known to train I...        2  "
            ]
          },
          "execution_count": 9,
          "metadata": {},
          "output_type": "execute_result"
        }
      ],
      "source": [
        "shows_df.head()"
      ]
    },
    {
      "cell_type": "markdown",
      "metadata": {
        "id": "Q8SRw4j02B-M"
      },
      "source": [
        "**Directors**"
      ]
    },
    {
      "cell_type": "code",
      "execution_count": 10,
      "metadata": {
        "id": "kkYCrXpQ2GTP"
      },
      "outputs": [],
      "source": [
        "all_directors = []\n",
        "\n",
        "for directors_str in df['director'].dropna():\n",
        "    directors = [d.strip() for d in directors_str.split(',')]\n",
        "    all_directors.extend(directors)\n",
        "\n",
        "directors_df = pd.DataFrame({'name': list(set(all_directors))})\n",
        "directors_df = directors_df.sort_values('name').reset_index(drop=True)\n",
        "\n",
        "directors_df = directors_df.reset_index().rename(columns={'index': 'id'})\n",
        "\n",
        "directors_df['id'] = directors_df['id'] + 1"
      ]
    },
    {
      "cell_type": "code",
      "execution_count": 11,
      "metadata": {
        "colab": {
          "base_uri": "https://localhost:8080/",
          "height": 206
        },
        "id": "1i0avqYh2I-8",
        "outputId": "64c0dd6c-06e3-4e4f-e1cb-78f77a55dfd7"
      },
      "outputs": [
        {
          "data": {
            "application/vnd.microsoft.datawrangler.viewer.v0+json": {
              "columns": [
                {
                  "name": "index",
                  "rawType": "int64",
                  "type": "integer"
                },
                {
                  "name": "id",
                  "rawType": "int64",
                  "type": "integer"
                },
                {
                  "name": "name",
                  "rawType": "object",
                  "type": "string"
                }
              ],
              "ref": "e7a10bd6-efec-4583-a06d-e38d6e53ed60",
              "rows": [
                [
                  "0",
                  "1",
                  "A. L. Vijay"
                ],
                [
                  "1",
                  "2",
                  "A. Raajdheep"
                ],
                [
                  "2",
                  "3",
                  "A. Salaam"
                ],
                [
                  "3",
                  "4",
                  "A.R. Murugadoss"
                ],
                [
                  "4",
                  "5",
                  "Aadish Keluskar"
                ]
              ],
              "shape": {
                "columns": 2,
                "rows": 5
              }
            },
            "text/html": [
              "<div>\n",
              "<style scoped>\n",
              "    .dataframe tbody tr th:only-of-type {\n",
              "        vertical-align: middle;\n",
              "    }\n",
              "\n",
              "    .dataframe tbody tr th {\n",
              "        vertical-align: top;\n",
              "    }\n",
              "\n",
              "    .dataframe thead th {\n",
              "        text-align: right;\n",
              "    }\n",
              "</style>\n",
              "<table border=\"1\" class=\"dataframe\">\n",
              "  <thead>\n",
              "    <tr style=\"text-align: right;\">\n",
              "      <th></th>\n",
              "      <th>id</th>\n",
              "      <th>name</th>\n",
              "    </tr>\n",
              "  </thead>\n",
              "  <tbody>\n",
              "    <tr>\n",
              "      <th>0</th>\n",
              "      <td>1</td>\n",
              "      <td>A. L. Vijay</td>\n",
              "    </tr>\n",
              "    <tr>\n",
              "      <th>1</th>\n",
              "      <td>2</td>\n",
              "      <td>A. Raajdheep</td>\n",
              "    </tr>\n",
              "    <tr>\n",
              "      <th>2</th>\n",
              "      <td>3</td>\n",
              "      <td>A. Salaam</td>\n",
              "    </tr>\n",
              "    <tr>\n",
              "      <th>3</th>\n",
              "      <td>4</td>\n",
              "      <td>A.R. Murugadoss</td>\n",
              "    </tr>\n",
              "    <tr>\n",
              "      <th>4</th>\n",
              "      <td>5</td>\n",
              "      <td>Aadish Keluskar</td>\n",
              "    </tr>\n",
              "  </tbody>\n",
              "</table>\n",
              "</div>"
            ],
            "text/plain": [
              "   id             name\n",
              "0   1      A. L. Vijay\n",
              "1   2     A. Raajdheep\n",
              "2   3        A. Salaam\n",
              "3   4  A.R. Murugadoss\n",
              "4   5  Aadish Keluskar"
            ]
          },
          "execution_count": 11,
          "metadata": {},
          "output_type": "execute_result"
        }
      ],
      "source": [
        "directors_df.head()"
      ]
    },
    {
      "cell_type": "markdown",
      "metadata": {
        "id": "W7S95GIT58Ie"
      },
      "source": [
        "**movie_directors** – association (many-to-many relationship)"
      ]
    },
    {
      "cell_type": "code",
      "execution_count": 12,
      "metadata": {
        "id": "Hv1yAqX66Alz"
      },
      "outputs": [],
      "source": [
        "show_directors_data = []\n",
        "\n",
        "for idx, row in df[['show_id', 'director']].dropna(subset=['director']).iterrows():\n",
        "    show_id = row['show_id']\n",
        "    directors_str = row['director']\n",
        "\n",
        "    directors = [d.strip().replace('\"', '').replace(\"'\", \"\") for d in directors_str.split(',')]\n",
        "\n",
        "    for director_name in directors:\n",
        "        show_directors_data.append({\n",
        "            'show_id': show_id,\n",
        "            'director': director_name\n",
        "        })\n",
        "\n",
        "show_directors_df = pd.DataFrame(show_directors_data)\n",
        "\n",
        "show_directors_df = show_directors_df.merge(\n",
        "    directors_df[['id', 'name']],\n",
        "    left_on='director',\n",
        "    right_on='name'\n",
        ")\n",
        "\n",
        "show_directors_df = show_directors_df.rename(columns={'id': 'director_id'})\n",
        "show_directors_df = show_directors_df[['show_id', 'director_id']]"
      ]
    },
    {
      "cell_type": "code",
      "execution_count": 13,
      "metadata": {
        "colab": {
          "base_uri": "https://localhost:8080/",
          "height": 206
        },
        "id": "pS3WzVsR6Hp_",
        "outputId": "13b39d73-bc5b-48af-d398-4738edecd9ea"
      },
      "outputs": [
        {
          "data": {
            "application/vnd.microsoft.datawrangler.viewer.v0+json": {
              "columns": [
                {
                  "name": "index",
                  "rawType": "int64",
                  "type": "integer"
                },
                {
                  "name": "show_id",
                  "rawType": "object",
                  "type": "string"
                },
                {
                  "name": "director_id",
                  "rawType": "int64",
                  "type": "integer"
                }
              ],
              "ref": "083345b7-41e5-4173-be04-a9dafad5bd70",
              "rows": [
                [
                  "0",
                  "s1",
                  "2533"
                ],
                [
                  "1",
                  "s3",
                  "2323"
                ],
                [
                  "2",
                  "s6",
                  "3163"
                ],
                [
                  "3",
                  "s7",
                  "3917"
                ],
                [
                  "4",
                  "s7",
                  "2290"
                ]
              ],
              "shape": {
                "columns": 2,
                "rows": 5
              }
            },
            "text/html": [
              "<div>\n",
              "<style scoped>\n",
              "    .dataframe tbody tr th:only-of-type {\n",
              "        vertical-align: middle;\n",
              "    }\n",
              "\n",
              "    .dataframe tbody tr th {\n",
              "        vertical-align: top;\n",
              "    }\n",
              "\n",
              "    .dataframe thead th {\n",
              "        text-align: right;\n",
              "    }\n",
              "</style>\n",
              "<table border=\"1\" class=\"dataframe\">\n",
              "  <thead>\n",
              "    <tr style=\"text-align: right;\">\n",
              "      <th></th>\n",
              "      <th>show_id</th>\n",
              "      <th>director_id</th>\n",
              "    </tr>\n",
              "  </thead>\n",
              "  <tbody>\n",
              "    <tr>\n",
              "      <th>0</th>\n",
              "      <td>s1</td>\n",
              "      <td>2533</td>\n",
              "    </tr>\n",
              "    <tr>\n",
              "      <th>1</th>\n",
              "      <td>s3</td>\n",
              "      <td>2323</td>\n",
              "    </tr>\n",
              "    <tr>\n",
              "      <th>2</th>\n",
              "      <td>s6</td>\n",
              "      <td>3163</td>\n",
              "    </tr>\n",
              "    <tr>\n",
              "      <th>3</th>\n",
              "      <td>s7</td>\n",
              "      <td>3917</td>\n",
              "    </tr>\n",
              "    <tr>\n",
              "      <th>4</th>\n",
              "      <td>s7</td>\n",
              "      <td>2290</td>\n",
              "    </tr>\n",
              "  </tbody>\n",
              "</table>\n",
              "</div>"
            ],
            "text/plain": [
              "  show_id  director_id\n",
              "0      s1         2533\n",
              "1      s3         2323\n",
              "2      s6         3163\n",
              "3      s7         3917\n",
              "4      s7         2290"
            ]
          },
          "execution_count": 13,
          "metadata": {},
          "output_type": "execute_result"
        }
      ],
      "source": [
        "show_directors_df.head()"
      ]
    },
    {
      "cell_type": "markdown",
      "metadata": {
        "id": "e57Sswcp3mqU"
      },
      "source": [
        "**Actors**"
      ]
    },
    {
      "cell_type": "code",
      "execution_count": 14,
      "metadata": {
        "id": "KI5w9x6W3boD"
      },
      "outputs": [],
      "source": [
        "all_actors = []\n",
        "\n",
        "for cast_str in df['cast'].dropna():\n",
        "    actors = [a.strip().replace('\"', '').replace(\"'\", \"\") for a in cast_str.split(',')]\n",
        "    all_actors.extend(actors)\n",
        "\n",
        "actors_df = pd.DataFrame({'name': list(set(all_actors))})\n",
        "actors_df = actors_df.sort_values('name').reset_index(drop=True)\n",
        "\n",
        "actors_df = actors_df.reset_index().rename(columns={'index': 'id'})\n",
        "\n",
        "actors_df['id'] = actors_df['id'] + 1"
      ]
    },
    {
      "cell_type": "code",
      "execution_count": 15,
      "metadata": {
        "colab": {
          "base_uri": "https://localhost:8080/",
          "height": 206
        },
        "id": "pGRCYlge33ox",
        "outputId": "998811aa-58be-4ed0-b16b-a3994e3e2a93"
      },
      "outputs": [
        {
          "data": {
            "application/vnd.microsoft.datawrangler.viewer.v0+json": {
              "columns": [
                {
                  "name": "index",
                  "rawType": "int64",
                  "type": "integer"
                },
                {
                  "name": "id",
                  "rawType": "int64",
                  "type": "integer"
                },
                {
                  "name": "name",
                  "rawType": "object",
                  "type": "string"
                }
              ],
              "ref": "52411adb-2a88-4e86-bb17-4846f88b6bcc",
              "rows": [
                [
                  "0",
                  "1",
                  "2 Chainz"
                ],
                [
                  "1",
                  "2",
                  "2Mex"
                ],
                [
                  "2",
                  "3",
                  "4Minute"
                ],
                [
                  "3",
                  "4",
                  "50 Cent"
                ],
                [
                  "4",
                  "5",
                  "9m88"
                ]
              ],
              "shape": {
                "columns": 2,
                "rows": 5
              }
            },
            "text/html": [
              "<div>\n",
              "<style scoped>\n",
              "    .dataframe tbody tr th:only-of-type {\n",
              "        vertical-align: middle;\n",
              "    }\n",
              "\n",
              "    .dataframe tbody tr th {\n",
              "        vertical-align: top;\n",
              "    }\n",
              "\n",
              "    .dataframe thead th {\n",
              "        text-align: right;\n",
              "    }\n",
              "</style>\n",
              "<table border=\"1\" class=\"dataframe\">\n",
              "  <thead>\n",
              "    <tr style=\"text-align: right;\">\n",
              "      <th></th>\n",
              "      <th>id</th>\n",
              "      <th>name</th>\n",
              "    </tr>\n",
              "  </thead>\n",
              "  <tbody>\n",
              "    <tr>\n",
              "      <th>0</th>\n",
              "      <td>1</td>\n",
              "      <td>2 Chainz</td>\n",
              "    </tr>\n",
              "    <tr>\n",
              "      <th>1</th>\n",
              "      <td>2</td>\n",
              "      <td>2Mex</td>\n",
              "    </tr>\n",
              "    <tr>\n",
              "      <th>2</th>\n",
              "      <td>3</td>\n",
              "      <td>4Minute</td>\n",
              "    </tr>\n",
              "    <tr>\n",
              "      <th>3</th>\n",
              "      <td>4</td>\n",
              "      <td>50 Cent</td>\n",
              "    </tr>\n",
              "    <tr>\n",
              "      <th>4</th>\n",
              "      <td>5</td>\n",
              "      <td>9m88</td>\n",
              "    </tr>\n",
              "  </tbody>\n",
              "</table>\n",
              "</div>"
            ],
            "text/plain": [
              "   id      name\n",
              "0   1  2 Chainz\n",
              "1   2      2Mex\n",
              "2   3   4Minute\n",
              "3   4   50 Cent\n",
              "4   5      9m88"
            ]
          },
          "execution_count": 15,
          "metadata": {},
          "output_type": "execute_result"
        }
      ],
      "source": [
        "actors_df.head()"
      ]
    },
    {
      "cell_type": "markdown",
      "metadata": {
        "id": "sQ1tVCNK5lKj"
      },
      "source": [
        "**movie_actors** – association (many-to-many relationship)"
      ]
    },
    {
      "cell_type": "code",
      "execution_count": 16,
      "metadata": {
        "id": "DLCgMLd_5hcf"
      },
      "outputs": [],
      "source": [
        "show_actors_data = []\n",
        "\n",
        "for idx, row in df[['show_id', 'cast']].dropna(subset=['cast']).iterrows():\n",
        "    show_id = row['show_id']\n",
        "    cast_str = row['cast']\n",
        "\n",
        "    actors = [a.strip().replace('\"', '').replace(\"'\", \"\") for a in cast_str.split(',')]\n",
        "\n",
        "    for actor_name in actors:\n",
        "        show_actors_data.append({\n",
        "            'show_id': show_id,\n",
        "            'actor': actor_name\n",
        "        })\n",
        "\n",
        "show_actors_df = pd.DataFrame(show_actors_data)\n",
        "\n",
        "show_actors_df = show_actors_df.merge(\n",
        "    actors_df[['id', 'name']],\n",
        "    left_on='actor',\n",
        "    right_on='name'\n",
        ")\n",
        "\n",
        "show_actors_df = show_actors_df.rename(columns={'id': 'actor_id'})\n",
        "show_actors_df = show_actors_df[['show_id', 'actor_id']]"
      ]
    },
    {
      "cell_type": "code",
      "execution_count": 17,
      "metadata": {
        "colab": {
          "base_uri": "https://localhost:8080/",
          "height": 206
        },
        "id": "_gwnOSEG5pDF",
        "outputId": "a3dfd683-3eb4-43b3-bd45-a8f4fe41eebf"
      },
      "outputs": [
        {
          "data": {
            "application/vnd.microsoft.datawrangler.viewer.v0+json": {
              "columns": [
                {
                  "name": "index",
                  "rawType": "int64",
                  "type": "integer"
                },
                {
                  "name": "show_id",
                  "rawType": "object",
                  "type": "string"
                },
                {
                  "name": "actor_id",
                  "rawType": "int64",
                  "type": "integer"
                }
              ],
              "ref": "73a0a1a7-1a3c-4914-a803-efaef9a69549",
              "rows": [
                [
                  "0",
                  "s2",
                  "1602"
                ],
                [
                  "1",
                  "s2",
                  "18113"
                ],
                [
                  "2",
                  "s2",
                  "11093"
                ],
                [
                  "3",
                  "s2",
                  "33079"
                ],
                [
                  "4",
                  "s2",
                  "8649"
                ]
              ],
              "shape": {
                "columns": 2,
                "rows": 5
              }
            },
            "text/html": [
              "<div>\n",
              "<style scoped>\n",
              "    .dataframe tbody tr th:only-of-type {\n",
              "        vertical-align: middle;\n",
              "    }\n",
              "\n",
              "    .dataframe tbody tr th {\n",
              "        vertical-align: top;\n",
              "    }\n",
              "\n",
              "    .dataframe thead th {\n",
              "        text-align: right;\n",
              "    }\n",
              "</style>\n",
              "<table border=\"1\" class=\"dataframe\">\n",
              "  <thead>\n",
              "    <tr style=\"text-align: right;\">\n",
              "      <th></th>\n",
              "      <th>show_id</th>\n",
              "      <th>actor_id</th>\n",
              "    </tr>\n",
              "  </thead>\n",
              "  <tbody>\n",
              "    <tr>\n",
              "      <th>0</th>\n",
              "      <td>s2</td>\n",
              "      <td>1602</td>\n",
              "    </tr>\n",
              "    <tr>\n",
              "      <th>1</th>\n",
              "      <td>s2</td>\n",
              "      <td>18113</td>\n",
              "    </tr>\n",
              "    <tr>\n",
              "      <th>2</th>\n",
              "      <td>s2</td>\n",
              "      <td>11093</td>\n",
              "    </tr>\n",
              "    <tr>\n",
              "      <th>3</th>\n",
              "      <td>s2</td>\n",
              "      <td>33079</td>\n",
              "    </tr>\n",
              "    <tr>\n",
              "      <th>4</th>\n",
              "      <td>s2</td>\n",
              "      <td>8649</td>\n",
              "    </tr>\n",
              "  </tbody>\n",
              "</table>\n",
              "</div>"
            ],
            "text/plain": [
              "  show_id  actor_id\n",
              "0      s2      1602\n",
              "1      s2     18113\n",
              "2      s2     11093\n",
              "3      s2     33079\n",
              "4      s2      8649"
            ]
          },
          "execution_count": 17,
          "metadata": {},
          "output_type": "execute_result"
        }
      ],
      "source": [
        "show_actors_df.head()"
      ]
    },
    {
      "cell_type": "markdown",
      "metadata": {
        "id": "23066RDU6jGt"
      },
      "source": [
        "**Genres**"
      ]
    },
    {
      "cell_type": "code",
      "execution_count": 18,
      "metadata": {
        "id": "c5HXBHq46ix7"
      },
      "outputs": [],
      "source": [
        "all_genres = []\n",
        "\n",
        "for genre_str in df['listed_in'].dropna():\n",
        "    genres = [g.strip().replace('\"', '').replace(\"'\", \"\") for g in genre_str.split(',')]\n",
        "    all_genres.extend(genres)\n",
        "\n",
        "genres_df = pd.DataFrame({'name': list(set(all_genres))})\n",
        "genres_df = genres_df.sort_values('name').reset_index(drop=True)\n",
        "\n",
        "genres_df = genres_df.reset_index().rename(columns={'index': 'id'})\n",
        "\n",
        "genres_df['id'] = genres_df['id'] + 1"
      ]
    },
    {
      "cell_type": "code",
      "execution_count": 19,
      "metadata": {
        "colab": {
          "base_uri": "https://localhost:8080/",
          "height": 206
        },
        "id": "q8vAVozy64nc",
        "outputId": "44c71178-66ca-44bf-8deb-4bd03c9fd6d9"
      },
      "outputs": [
        {
          "data": {
            "application/vnd.microsoft.datawrangler.viewer.v0+json": {
              "columns": [
                {
                  "name": "index",
                  "rawType": "int64",
                  "type": "integer"
                },
                {
                  "name": "id",
                  "rawType": "int64",
                  "type": "integer"
                },
                {
                  "name": "name",
                  "rawType": "object",
                  "type": "string"
                }
              ],
              "ref": "42d9b290-6355-4df7-ad81-e1a97a545714",
              "rows": [
                [
                  "0",
                  "1",
                  "Action & Adventure"
                ],
                [
                  "1",
                  "2",
                  "Anime Features"
                ],
                [
                  "2",
                  "3",
                  "Anime Series"
                ],
                [
                  "3",
                  "4",
                  "British TV Shows"
                ],
                [
                  "4",
                  "5",
                  "Children & Family Movies"
                ]
              ],
              "shape": {
                "columns": 2,
                "rows": 5
              }
            },
            "text/html": [
              "<div>\n",
              "<style scoped>\n",
              "    .dataframe tbody tr th:only-of-type {\n",
              "        vertical-align: middle;\n",
              "    }\n",
              "\n",
              "    .dataframe tbody tr th {\n",
              "        vertical-align: top;\n",
              "    }\n",
              "\n",
              "    .dataframe thead th {\n",
              "        text-align: right;\n",
              "    }\n",
              "</style>\n",
              "<table border=\"1\" class=\"dataframe\">\n",
              "  <thead>\n",
              "    <tr style=\"text-align: right;\">\n",
              "      <th></th>\n",
              "      <th>id</th>\n",
              "      <th>name</th>\n",
              "    </tr>\n",
              "  </thead>\n",
              "  <tbody>\n",
              "    <tr>\n",
              "      <th>0</th>\n",
              "      <td>1</td>\n",
              "      <td>Action &amp; Adventure</td>\n",
              "    </tr>\n",
              "    <tr>\n",
              "      <th>1</th>\n",
              "      <td>2</td>\n",
              "      <td>Anime Features</td>\n",
              "    </tr>\n",
              "    <tr>\n",
              "      <th>2</th>\n",
              "      <td>3</td>\n",
              "      <td>Anime Series</td>\n",
              "    </tr>\n",
              "    <tr>\n",
              "      <th>3</th>\n",
              "      <td>4</td>\n",
              "      <td>British TV Shows</td>\n",
              "    </tr>\n",
              "    <tr>\n",
              "      <th>4</th>\n",
              "      <td>5</td>\n",
              "      <td>Children &amp; Family Movies</td>\n",
              "    </tr>\n",
              "  </tbody>\n",
              "</table>\n",
              "</div>"
            ],
            "text/plain": [
              "   id                      name\n",
              "0   1        Action & Adventure\n",
              "1   2            Anime Features\n",
              "2   3              Anime Series\n",
              "3   4          British TV Shows\n",
              "4   5  Children & Family Movies"
            ]
          },
          "execution_count": 19,
          "metadata": {},
          "output_type": "execute_result"
        }
      ],
      "source": [
        "genres_df.head()"
      ]
    },
    {
      "cell_type": "markdown",
      "metadata": {
        "id": "1jbyVazo6vL4"
      },
      "source": [
        "**movie_genres** - association (many-to-many relationship)"
      ]
    },
    {
      "cell_type": "code",
      "execution_count": 20,
      "metadata": {
        "id": "5uJoHOHX6xeb"
      },
      "outputs": [],
      "source": [
        "show_genres_data = []\n",
        "\n",
        "for idx, row in df[['show_id', 'listed_in']].dropna(subset=['listed_in']).iterrows():\n",
        "    show_id = row['show_id']\n",
        "    genres_str = row['listed_in']\n",
        "\n",
        "    genres = [g.strip().replace('\"', '').replace(\"'\", \"\") for g in genres_str.split(',')]\n",
        "\n",
        "    for genre_name in genres:\n",
        "        show_genres_data.append({\n",
        "            'show_id': show_id,\n",
        "            'genre': genre_name\n",
        "        })\n",
        "\n",
        "show_genres_df = pd.DataFrame(show_genres_data)\n",
        "\n",
        "show_genres_df = show_genres_df.merge(\n",
        "    genres_df[['id', 'name']],\n",
        "    left_on='genre',\n",
        "    right_on='name'\n",
        ")\n",
        "\n",
        "show_genres_df = show_genres_df.rename(columns={'id': 'genre_id'})\n",
        "show_genres_df = show_genres_df[['show_id', 'genre_id']]"
      ]
    },
    {
      "cell_type": "code",
      "execution_count": 21,
      "metadata": {
        "colab": {
          "base_uri": "https://localhost:8080/",
          "height": 206
        },
        "id": "fIdI1VAf69fk",
        "outputId": "065233fe-9346-4bbf-b872-2239394ce30e"
      },
      "outputs": [
        {
          "data": {
            "application/vnd.microsoft.datawrangler.viewer.v0+json": {
              "columns": [
                {
                  "name": "index",
                  "rawType": "int64",
                  "type": "integer"
                },
                {
                  "name": "show_id",
                  "rawType": "object",
                  "type": "string"
                },
                {
                  "name": "genre_id",
                  "rawType": "int64",
                  "type": "integer"
                }
              ],
              "ref": "7e25a8a2-23af-45de-8c58-7299a577790d",
              "rows": [
                [
                  "0",
                  "s1",
                  "11"
                ],
                [
                  "1",
                  "s2",
                  "18"
                ],
                [
                  "2",
                  "s2",
                  "35"
                ],
                [
                  "3",
                  "s2",
                  "37"
                ],
                [
                  "4",
                  "s3",
                  "9"
                ]
              ],
              "shape": {
                "columns": 2,
                "rows": 5
              }
            },
            "text/html": [
              "<div>\n",
              "<style scoped>\n",
              "    .dataframe tbody tr th:only-of-type {\n",
              "        vertical-align: middle;\n",
              "    }\n",
              "\n",
              "    .dataframe tbody tr th {\n",
              "        vertical-align: top;\n",
              "    }\n",
              "\n",
              "    .dataframe thead th {\n",
              "        text-align: right;\n",
              "    }\n",
              "</style>\n",
              "<table border=\"1\" class=\"dataframe\">\n",
              "  <thead>\n",
              "    <tr style=\"text-align: right;\">\n",
              "      <th></th>\n",
              "      <th>show_id</th>\n",
              "      <th>genre_id</th>\n",
              "    </tr>\n",
              "  </thead>\n",
              "  <tbody>\n",
              "    <tr>\n",
              "      <th>0</th>\n",
              "      <td>s1</td>\n",
              "      <td>11</td>\n",
              "    </tr>\n",
              "    <tr>\n",
              "      <th>1</th>\n",
              "      <td>s2</td>\n",
              "      <td>18</td>\n",
              "    </tr>\n",
              "    <tr>\n",
              "      <th>2</th>\n",
              "      <td>s2</td>\n",
              "      <td>35</td>\n",
              "    </tr>\n",
              "    <tr>\n",
              "      <th>3</th>\n",
              "      <td>s2</td>\n",
              "      <td>37</td>\n",
              "    </tr>\n",
              "    <tr>\n",
              "      <th>4</th>\n",
              "      <td>s3</td>\n",
              "      <td>9</td>\n",
              "    </tr>\n",
              "  </tbody>\n",
              "</table>\n",
              "</div>"
            ],
            "text/plain": [
              "  show_id  genre_id\n",
              "0      s1        11\n",
              "1      s2        18\n",
              "2      s2        35\n",
              "3      s2        37\n",
              "4      s3         9"
            ]
          },
          "execution_count": 21,
          "metadata": {},
          "output_type": "execute_result"
        }
      ],
      "source": [
        "show_genres_df.head()"
      ]
    },
    {
      "cell_type": "markdown",
      "metadata": {
        "id": "zTFIUlcy853C"
      },
      "source": [
        "**Countries**"
      ]
    },
    {
      "cell_type": "code",
      "execution_count": 22,
      "metadata": {
        "id": "whH4N2to80Uk"
      },
      "outputs": [],
      "source": [
        "all_countries = []\n",
        "\n",
        "for country_str in df['country'].dropna():\n",
        "    countries = [c.strip() for c in country_str.split(',') if c.strip() != '']\n",
        "    all_countries.extend(countries)\n",
        "\n",
        "countries_df = pd.DataFrame({'name': sorted(set(all_countries))}).reset_index()\n",
        "countries_df = countries_df.rename(columns={'index': 'id'})\n",
        "countries_df['id'] = countries_df['id'] + 1"
      ]
    },
    {
      "cell_type": "code",
      "execution_count": 23,
      "metadata": {},
      "outputs": [
        {
          "data": {
            "application/vnd.microsoft.datawrangler.viewer.v0+json": {
              "columns": [
                {
                  "name": "index",
                  "rawType": "int64",
                  "type": "integer"
                },
                {
                  "name": "id",
                  "rawType": "int64",
                  "type": "integer"
                },
                {
                  "name": "name",
                  "rawType": "object",
                  "type": "string"
                }
              ],
              "ref": "3c58de7c-ac58-4ce4-83db-bbfeda455f08",
              "rows": [
                [
                  "0",
                  "1",
                  "Afghanistan"
                ],
                [
                  "1",
                  "2",
                  "Albania"
                ],
                [
                  "2",
                  "3",
                  "Algeria"
                ],
                [
                  "3",
                  "4",
                  "Angola"
                ],
                [
                  "4",
                  "5",
                  "Argentina"
                ]
              ],
              "shape": {
                "columns": 2,
                "rows": 5
              }
            },
            "text/html": [
              "<div>\n",
              "<style scoped>\n",
              "    .dataframe tbody tr th:only-of-type {\n",
              "        vertical-align: middle;\n",
              "    }\n",
              "\n",
              "    .dataframe tbody tr th {\n",
              "        vertical-align: top;\n",
              "    }\n",
              "\n",
              "    .dataframe thead th {\n",
              "        text-align: right;\n",
              "    }\n",
              "</style>\n",
              "<table border=\"1\" class=\"dataframe\">\n",
              "  <thead>\n",
              "    <tr style=\"text-align: right;\">\n",
              "      <th></th>\n",
              "      <th>id</th>\n",
              "      <th>name</th>\n",
              "    </tr>\n",
              "  </thead>\n",
              "  <tbody>\n",
              "    <tr>\n",
              "      <th>0</th>\n",
              "      <td>1</td>\n",
              "      <td>Afghanistan</td>\n",
              "    </tr>\n",
              "    <tr>\n",
              "      <th>1</th>\n",
              "      <td>2</td>\n",
              "      <td>Albania</td>\n",
              "    </tr>\n",
              "    <tr>\n",
              "      <th>2</th>\n",
              "      <td>3</td>\n",
              "      <td>Algeria</td>\n",
              "    </tr>\n",
              "    <tr>\n",
              "      <th>3</th>\n",
              "      <td>4</td>\n",
              "      <td>Angola</td>\n",
              "    </tr>\n",
              "    <tr>\n",
              "      <th>4</th>\n",
              "      <td>5</td>\n",
              "      <td>Argentina</td>\n",
              "    </tr>\n",
              "  </tbody>\n",
              "</table>\n",
              "</div>"
            ],
            "text/plain": [
              "   id         name\n",
              "0   1  Afghanistan\n",
              "1   2      Albania\n",
              "2   3      Algeria\n",
              "3   4       Angola\n",
              "4   5    Argentina"
            ]
          },
          "execution_count": 23,
          "metadata": {},
          "output_type": "execute_result"
        }
      ],
      "source": [
        "countries_df.head()"
      ]
    },
    {
      "cell_type": "markdown",
      "metadata": {
        "id": "xjyaurUX9Bn4"
      },
      "source": [
        "**show_countries** - association (many-to-many relationship)"
      ]
    },
    {
      "cell_type": "code",
      "execution_count": 24,
      "metadata": {
        "id": "9yqEbvsN9Dr7"
      },
      "outputs": [],
      "source": [
        "show_countries_data = []\n",
        "\n",
        "for idx, row in df[['show_id', 'country']].dropna(subset=['country']).iterrows():\n",
        "    show_id = row['show_id']\n",
        "    countries_str = row['country']\n",
        "\n",
        "    countries = [c.strip() for c in countries_str.split(',')]\n",
        "\n",
        "    for country_name in countries:\n",
        "        show_countries_data.append({\n",
        "            'show_id': show_id,\n",
        "            'country': country_name\n",
        "        })\n",
        "\n",
        "show_countries_df = pd.DataFrame(show_countries_data)\n",
        "show_countries_df = show_countries_df.merge(\n",
        "    countries_df[['id', 'name']],\n",
        "    left_on='country',\n",
        "    right_on='name'\n",
        ")\n",
        "show_countries_df = show_countries_df.rename(columns={'id': 'country_id'})\n",
        "show_countries_df = show_countries_df[['show_id', 'country_id']]"
      ]
    },
    {
      "cell_type": "markdown",
      "metadata": {
        "id": "sRtt5Onf-KVJ"
      },
      "source": [
        "We have different durations: for shows, it’s in seasons, and for movies, it’s in minutes."
      ]
    },
    {
      "cell_type": "code",
      "execution_count": 25,
      "metadata": {
        "id": "Q0-lsCfa9a_o"
      },
      "outputs": [],
      "source": [
        "shows_df = df[['show_id', 'title', 'date_added', 'release_year', 'rating', 'description']].copy()\n",
        "shows_df['type_id'] = df['type'].map({'Movie': 1, 'TV Show': 2})\n",
        "\n",
        "shows_df['duration_minutes'] = None\n",
        "shows_df['seasons_count'] = None\n",
        "\n",
        "is_movie = df['type'] == 'Movie'\n",
        "is_tv = df['type'] == 'TV Show'\n",
        "\n",
        "shows_df.loc[is_movie, 'duration_minutes'] = (\n",
        "    df.loc[is_movie, 'duration']\n",
        "    .str.replace(' min', '')\n",
        "    .astype(float)\n",
        ")\n",
        "\n",
        "shows_df.loc[is_tv, 'seasons_count'] = (\n",
        "    df.loc[is_tv, 'duration']\n",
        "    .str.replace(' Season', '')\n",
        "    .str.replace('s', '')\n",
        "    .astype(float)\n",
        ")\n",
        "\n",
        "shows_df['date_added'] = pd.to_datetime(shows_df['date_added'], errors='coerce')"
      ]
    },
    {
      "cell_type": "code",
      "execution_count": 26,
      "metadata": {
        "colab": {
          "base_uri": "https://localhost:8080/",
          "height": 206
        },
        "id": "_Mnv3Iw6-ooh",
        "outputId": "91f3b654-beb3-4628-cd1d-492e8233a825"
      },
      "outputs": [
        {
          "data": {
            "application/vnd.microsoft.datawrangler.viewer.v0+json": {
              "columns": [
                {
                  "name": "index",
                  "rawType": "int64",
                  "type": "integer"
                },
                {
                  "name": "show_id",
                  "rawType": "object",
                  "type": "string"
                },
                {
                  "name": "title",
                  "rawType": "object",
                  "type": "string"
                },
                {
                  "name": "date_added",
                  "rawType": "datetime64[ns]",
                  "type": "datetime"
                },
                {
                  "name": "release_year",
                  "rawType": "int64",
                  "type": "integer"
                },
                {
                  "name": "rating",
                  "rawType": "object",
                  "type": "string"
                },
                {
                  "name": "description",
                  "rawType": "object",
                  "type": "string"
                },
                {
                  "name": "type_id",
                  "rawType": "int64",
                  "type": "integer"
                },
                {
                  "name": "duration_minutes",
                  "rawType": "object",
                  "type": "unknown"
                },
                {
                  "name": "seasons_count",
                  "rawType": "object",
                  "type": "unknown"
                }
              ],
              "ref": "bb6db6a8-27ab-4e31-9dd3-1c972b36ec62",
              "rows": [
                [
                  "0",
                  "s1",
                  "Dick Johnson Is Dead",
                  "2021-09-25 00:00:00",
                  "2020",
                  "PG-13",
                  "As her father nears the end of his life, filmmaker Kirsten Johnson stages his death in inventive and comical ways to help them both face the inevitable.",
                  "1",
                  "90.0",
                  null
                ],
                [
                  "1",
                  "s2",
                  "Blood & Water",
                  "2021-09-24 00:00:00",
                  "2021",
                  "TV-MA",
                  "After crossing paths at a party, a Cape Town teen sets out to prove whether a private-school swimming star is her sister who was abducted at birth.",
                  "2",
                  null,
                  "2.0"
                ],
                [
                  "2",
                  "s3",
                  "Ganglands",
                  "2021-09-24 00:00:00",
                  "2021",
                  "TV-MA",
                  "To protect his family from a powerful drug lord, skilled thief Mehdi and his expert team of robbers are pulled into a violent and deadly turf war.",
                  "2",
                  null,
                  "1.0"
                ],
                [
                  "3",
                  "s4",
                  "Jailbirds New Orleans",
                  "2021-09-24 00:00:00",
                  "2021",
                  "TV-MA",
                  "Feuds, flirtations and toilet talk go down among the incarcerated women at the Orleans Justice Center in New Orleans on this gritty reality series.",
                  "2",
                  null,
                  "1.0"
                ],
                [
                  "4",
                  "s5",
                  "Kota Factory",
                  "2021-09-24 00:00:00",
                  "2021",
                  "TV-MA",
                  "In a city of coaching centers known to train India’s finest collegiate minds, an earnest but unexceptional student and his friends navigate campus life.",
                  "2",
                  null,
                  "2.0"
                ]
              ],
              "shape": {
                "columns": 9,
                "rows": 5
              }
            },
            "text/html": [
              "<div>\n",
              "<style scoped>\n",
              "    .dataframe tbody tr th:only-of-type {\n",
              "        vertical-align: middle;\n",
              "    }\n",
              "\n",
              "    .dataframe tbody tr th {\n",
              "        vertical-align: top;\n",
              "    }\n",
              "\n",
              "    .dataframe thead th {\n",
              "        text-align: right;\n",
              "    }\n",
              "</style>\n",
              "<table border=\"1\" class=\"dataframe\">\n",
              "  <thead>\n",
              "    <tr style=\"text-align: right;\">\n",
              "      <th></th>\n",
              "      <th>show_id</th>\n",
              "      <th>title</th>\n",
              "      <th>date_added</th>\n",
              "      <th>release_year</th>\n",
              "      <th>rating</th>\n",
              "      <th>description</th>\n",
              "      <th>type_id</th>\n",
              "      <th>duration_minutes</th>\n",
              "      <th>seasons_count</th>\n",
              "    </tr>\n",
              "  </thead>\n",
              "  <tbody>\n",
              "    <tr>\n",
              "      <th>0</th>\n",
              "      <td>s1</td>\n",
              "      <td>Dick Johnson Is Dead</td>\n",
              "      <td>2021-09-25</td>\n",
              "      <td>2020</td>\n",
              "      <td>PG-13</td>\n",
              "      <td>As her father nears the end of his life, filmm...</td>\n",
              "      <td>1</td>\n",
              "      <td>90.0</td>\n",
              "      <td>None</td>\n",
              "    </tr>\n",
              "    <tr>\n",
              "      <th>1</th>\n",
              "      <td>s2</td>\n",
              "      <td>Blood &amp; Water</td>\n",
              "      <td>2021-09-24</td>\n",
              "      <td>2021</td>\n",
              "      <td>TV-MA</td>\n",
              "      <td>After crossing paths at a party, a Cape Town t...</td>\n",
              "      <td>2</td>\n",
              "      <td>None</td>\n",
              "      <td>2.0</td>\n",
              "    </tr>\n",
              "    <tr>\n",
              "      <th>2</th>\n",
              "      <td>s3</td>\n",
              "      <td>Ganglands</td>\n",
              "      <td>2021-09-24</td>\n",
              "      <td>2021</td>\n",
              "      <td>TV-MA</td>\n",
              "      <td>To protect his family from a powerful drug lor...</td>\n",
              "      <td>2</td>\n",
              "      <td>None</td>\n",
              "      <td>1.0</td>\n",
              "    </tr>\n",
              "    <tr>\n",
              "      <th>3</th>\n",
              "      <td>s4</td>\n",
              "      <td>Jailbirds New Orleans</td>\n",
              "      <td>2021-09-24</td>\n",
              "      <td>2021</td>\n",
              "      <td>TV-MA</td>\n",
              "      <td>Feuds, flirtations and toilet talk go down amo...</td>\n",
              "      <td>2</td>\n",
              "      <td>None</td>\n",
              "      <td>1.0</td>\n",
              "    </tr>\n",
              "    <tr>\n",
              "      <th>4</th>\n",
              "      <td>s5</td>\n",
              "      <td>Kota Factory</td>\n",
              "      <td>2021-09-24</td>\n",
              "      <td>2021</td>\n",
              "      <td>TV-MA</td>\n",
              "      <td>In a city of coaching centers known to train I...</td>\n",
              "      <td>2</td>\n",
              "      <td>None</td>\n",
              "      <td>2.0</td>\n",
              "    </tr>\n",
              "  </tbody>\n",
              "</table>\n",
              "</div>"
            ],
            "text/plain": [
              "  show_id                  title date_added  release_year rating  \\\n",
              "0      s1   Dick Johnson Is Dead 2021-09-25          2020  PG-13   \n",
              "1      s2          Blood & Water 2021-09-24          2021  TV-MA   \n",
              "2      s3              Ganglands 2021-09-24          2021  TV-MA   \n",
              "3      s4  Jailbirds New Orleans 2021-09-24          2021  TV-MA   \n",
              "4      s5           Kota Factory 2021-09-24          2021  TV-MA   \n",
              "\n",
              "                                         description  type_id  \\\n",
              "0  As her father nears the end of his life, filmm...        1   \n",
              "1  After crossing paths at a party, a Cape Town t...        2   \n",
              "2  To protect his family from a powerful drug lor...        2   \n",
              "3  Feuds, flirtations and toilet talk go down amo...        2   \n",
              "4  In a city of coaching centers known to train I...        2   \n",
              "\n",
              "  duration_minutes seasons_count  \n",
              "0             90.0          None  \n",
              "1             None           2.0  \n",
              "2             None           1.0  \n",
              "3             None           1.0  \n",
              "4             None           2.0  "
            ]
          },
          "execution_count": 26,
          "metadata": {},
          "output_type": "execute_result"
        }
      ],
      "source": [
        "shows_df.head()"
      ]
    },
    {
      "cell_type": "markdown",
      "metadata": {
        "id": "SnRhoXRAiS50"
      },
      "source": [
        "It turns out that duplicates somehow got in."
      ]
    },
    {
      "cell_type": "code",
      "execution_count": 27,
      "metadata": {
        "id": "dPiGj4sIiXgd"
      },
      "outputs": [],
      "source": [
        "show_actors_df_clean = show_actors_df.drop_duplicates(subset=['show_id', 'actor_id'])\n",
        "show_actors_df = show_actors_df_clean"
      ]
    },
    {
      "cell_type": "code",
      "execution_count": 28,
      "metadata": {
        "id": "qne_2cL8igyx"
      },
      "outputs": [],
      "source": [
        "show_directors_df_clean = show_directors_df.drop_duplicates(subset=['show_id', 'director_id'])\n",
        "show_directors_df = show_directors_df_clean"
      ]
    },
    {
      "cell_type": "markdown",
      "metadata": {},
      "source": [
        "---"
      ]
    },
    {
      "cell_type": "markdown",
      "metadata": {},
      "source": [
        "### Connecting to DuckDB"
      ]
    },
    {
      "cell_type": "code",
      "execution_count": 29,
      "metadata": {},
      "outputs": [],
      "source": [
        "import duckdb\n",
        "\n",
        "con = duckdb.connect(\"netflix_final.duckdb\")"
      ]
    },
    {
      "cell_type": "code",
      "execution_count": 30,
      "metadata": {},
      "outputs": [
        {
          "data": {
            "text/plain": [
              "<_duckdb.DuckDBPyConnection at 0x119785ab0>"
            ]
          },
          "execution_count": 30,
          "metadata": {},
          "output_type": "execute_result"
        }
      ],
      "source": [
        "# Creating tables\n",
        "con.execute('''\n",
        "CREATE TABLE IF NOT EXISTS content_types (\n",
        "    id INTEGER PRIMARY KEY,\n",
        "    name VARCHAR NOT NULL UNIQUE\n",
        ")\n",
        "''')\n",
        "\n",
        "con.execute('''\n",
        "CREATE TABLE IF NOT EXISTS countries (\n",
        "    id INTEGER PRIMARY KEY,\n",
        "    name VARCHAR NOT NULL UNIQUE\n",
        ")\n",
        "''')\n",
        "\n",
        "con.execute('''\n",
        "CREATE TABLE IF NOT EXISTS directors (\n",
        "    id INTEGER PRIMARY KEY,\n",
        "    name VARCHAR NOT NULL UNIQUE\n",
        ")\n",
        "''')\n",
        "\n",
        "con.execute('''\n",
        "CREATE TABLE IF NOT EXISTS actors (\n",
        "    id INTEGER PRIMARY KEY,\n",
        "    name VARCHAR NOT NULL UNIQUE\n",
        ")\n",
        "''')\n",
        "\n",
        "con.execute('''\n",
        "CREATE TABLE IF NOT EXISTS genres (\n",
        "    id INTEGER PRIMARY KEY,\n",
        "    name VARCHAR NOT NULL UNIQUE\n",
        ")\n",
        "''')\n",
        "\n",
        "con.execute('''\n",
        "CREATE TABLE IF NOT EXISTS shows (\n",
        "    show_id VARCHAR PRIMARY KEY,\n",
        "    title VARCHAR NOT NULL,\n",
        "    type_id INTEGER,\n",
        "    date_added DATE,\n",
        "    release_year INTEGER,\n",
        "    rating VARCHAR,\n",
        "    duration_minutes INTEGER,\n",
        "    seasons_count INTEGER,\n",
        "    description VARCHAR,\n",
        "    FOREIGN KEY (type_id) REFERENCES content_types(id)\n",
        ")\n",
        "''')\n",
        "\n",
        "con.execute('''\n",
        "CREATE TABLE IF NOT EXISTS show_directors (\n",
        "    show_id VARCHAR,\n",
        "    director_id INTEGER,\n",
        "    FOREIGN KEY (show_id) REFERENCES shows(show_id),\n",
        "    FOREIGN KEY (director_id) REFERENCES directors(id)\n",
        ")\n",
        "''')\n",
        "\n",
        "con.execute('''\n",
        "CREATE TABLE IF NOT EXISTS show_actors (\n",
        "    show_id VARCHAR,\n",
        "    actor_id INTEGER,\n",
        "    FOREIGN KEY (show_id) REFERENCES shows(show_id),\n",
        "    FOREIGN KEY (actor_id) REFERENCES actors(id)\n",
        ")\n",
        "''')\n",
        "\n",
        "con.execute('''\n",
        "CREATE TABLE IF NOT EXISTS show_genres (\n",
        "    show_id VARCHAR,\n",
        "    genre_id INTEGER,\n",
        "    PRIMARY KEY (show_id, genre_id),\n",
        "    FOREIGN KEY (show_id) REFERENCES shows(show_id),\n",
        "    FOREIGN KEY (genre_id) REFERENCES genres(id)\n",
        ")\n",
        "''')\n",
        "\n",
        "con.execute('''\n",
        "CREATE TABLE IF NOT EXISTS show_countries (\n",
        "    show_id VARCHAR,\n",
        "    country_id INTEGER,\n",
        "    PRIMARY KEY (show_id, country_id),\n",
        "    FOREIGN KEY (show_id) REFERENCES shows(show_id),\n",
        "    FOREIGN KEY (country_id) REFERENCES countries(id)\n",
        ")\n",
        "''')"
      ]
    },
    {
      "cell_type": "code",
      "execution_count": 31,
      "metadata": {},
      "outputs": [
        {
          "data": {
            "text/plain": [
              "<_duckdb.DuckDBPyConnection at 0x119785ab0>"
            ]
          },
          "execution_count": 31,
          "metadata": {},
          "output_type": "execute_result"
        }
      ],
      "source": [
        "# Registering all tables\n",
        "con.register('content_types_df', content_types_df)\n",
        "con.register('countries_df', countries_df)\n",
        "con.register('directors_df', directors_df)\n",
        "con.register('actors_df', actors_df)\n",
        "con.register('genres_df', genres_df)\n",
        "con.register('shows_df', shows_df)\n",
        "con.register('show_directors_df', show_directors_df)\n",
        "con.register('show_actors_df', show_actors_df)\n",
        "con.register('show_genres_df', show_genres_df)\n",
        "con.register('show_countries_df', show_countries_df)\n",
        "\n",
        "# Cleaning data in the correct order (needed if recreating the database)\n",
        "con.execute('DELETE FROM show_directors')\n",
        "con.execute('DELETE FROM show_actors')\n",
        "con.execute('DELETE FROM show_genres')\n",
        "con.execute('DELETE FROM show_countries')\n",
        "con.execute('DELETE FROM shows')\n",
        "con.execute('DELETE FROM content_types')\n",
        "con.execute('DELETE FROM countries')\n",
        "con.execute('DELETE FROM directors')\n",
        "con.execute('DELETE FROM actors')\n",
        "con.execute('DELETE FROM genres')\n",
        "\n",
        "# Inserting data in the correct order (starting with the base tables)\n",
        "# For the show table, there was an issue with the data type of the column date_added, so we explicitly define its type\n",
        "con.execute('INSERT INTO content_types SELECT * FROM content_types_df')\n",
        "con.execute('INSERT INTO countries SELECT * FROM countries_df')\n",
        "con.execute('INSERT INTO directors SELECT * FROM directors_df')\n",
        "con.execute('INSERT INTO actors SELECT * FROM actors_df')\n",
        "con.execute('INSERT INTO genres SELECT * FROM genres_df')\n",
        "con.execute('INSERT INTO shows SELECT show_id, title, type_id, CAST(date_added AS DATE), release_year, rating, duration_minutes, seasons_count, description FROM shows_df')\n",
        "con.execute('INSERT INTO show_directors SELECT * FROM show_directors_df')\n",
        "con.execute('INSERT INTO show_actors SELECT * FROM show_actors_df')\n",
        "con.execute('INSERT INTO show_genres SELECT * FROM show_genres_df')\n",
        "con.execute('INSERT INTO show_countries SELECT * FROM show_countries_df')\n",
        "\n",
        "# Unregistering after insertion\n",
        "con.unregister('content_types_df')\n",
        "con.unregister('countries_df')\n",
        "con.unregister('directors_df')\n",
        "con.unregister('actors_df')\n",
        "con.unregister('genres_df')\n",
        "con.unregister('shows_df')\n",
        "con.unregister('show_directors_df')\n",
        "con.unregister('show_actors_df')\n",
        "con.unregister('show_genres_df')\n",
        "con.unregister('show_countries_df')"
      ]
    },
    {
      "cell_type": "code",
      "execution_count": 32,
      "metadata": {},
      "outputs": [],
      "source": [
        "con.close()"
      ]
    },
    {
      "cell_type": "markdown",
      "metadata": {},
      "source": [
        "---"
      ]
    },
    {
      "cell_type": "markdown",
      "metadata": {},
      "source": [
        "### SQL queries"
      ]
    },
    {
      "cell_type": "markdown",
      "metadata": {},
      "source": [
        "As part of this work, we created a tool that allows us to explore the structure of the Netflix content database, the distribution of genres and production countries, activity by release year, and the frequency of collaborations with specific directors and actors.\n",
        "\n",
        "We aim to answer the following questions:\n",
        "\n",
        "1. Which directors are the most productive in the Netflix database?\n",
        "2. How are shows distributed in the database by age rating, and how has this distribution changed over the years?\n",
        "3. Which pairs of actors have worked together most frequently?\n",
        "4. In which countries are shows most often produced? Does the USA remain the leader, or has India managed to catch up?\n",
        "5. How are shows distributed by genre?"
      ]
    },
    {
      "cell_type": "markdown",
      "metadata": {},
      "source": [
        "**Top 10 directors by number of shows**"
      ]
    },
    {
      "cell_type": "code",
      "execution_count": 33,
      "metadata": {},
      "outputs": [
        {
          "data": {
            "application/vnd.microsoft.datawrangler.viewer.v0+json": {
              "columns": [
                {
                  "name": "index",
                  "rawType": "int64",
                  "type": "integer"
                },
                {
                  "name": "director",
                  "rawType": "object",
                  "type": "string"
                },
                {
                  "name": "show_count",
                  "rawType": "int64",
                  "type": "integer"
                }
              ],
              "ref": "398b54d8-275c-46e9-814a-f47dacc14e1e",
              "rows": [
                [
                  "0",
                  "Rajiv Chilaka",
                  "22"
                ],
                [
                  "1",
                  "Jan Suter",
                  "21"
                ],
                [
                  "2",
                  "Raúl Campos",
                  "19"
                ],
                [
                  "3",
                  "Marcus Raboy",
                  "16"
                ],
                [
                  "4",
                  "Suhas Kadav",
                  "16"
                ],
                [
                  "5",
                  "Jay Karas",
                  "15"
                ],
                [
                  "6",
                  "Cathy Garcia-Molina",
                  "13"
                ],
                [
                  "7",
                  "Martin Scorsese",
                  "12"
                ],
                [
                  "8",
                  "Youssef Chahine",
                  "12"
                ],
                [
                  "9",
                  "Jay Chapman",
                  "12"
                ]
              ],
              "shape": {
                "columns": 2,
                "rows": 10
              }
            },
            "text/html": [
              "<div>\n",
              "<style scoped>\n",
              "    .dataframe tbody tr th:only-of-type {\n",
              "        vertical-align: middle;\n",
              "    }\n",
              "\n",
              "    .dataframe tbody tr th {\n",
              "        vertical-align: top;\n",
              "    }\n",
              "\n",
              "    .dataframe thead th {\n",
              "        text-align: right;\n",
              "    }\n",
              "</style>\n",
              "<table border=\"1\" class=\"dataframe\">\n",
              "  <thead>\n",
              "    <tr style=\"text-align: right;\">\n",
              "      <th></th>\n",
              "      <th>director</th>\n",
              "      <th>show_count</th>\n",
              "    </tr>\n",
              "  </thead>\n",
              "  <tbody>\n",
              "    <tr>\n",
              "      <th>0</th>\n",
              "      <td>Rajiv Chilaka</td>\n",
              "      <td>22</td>\n",
              "    </tr>\n",
              "    <tr>\n",
              "      <th>1</th>\n",
              "      <td>Jan Suter</td>\n",
              "      <td>21</td>\n",
              "    </tr>\n",
              "    <tr>\n",
              "      <th>2</th>\n",
              "      <td>Raúl Campos</td>\n",
              "      <td>19</td>\n",
              "    </tr>\n",
              "    <tr>\n",
              "      <th>3</th>\n",
              "      <td>Marcus Raboy</td>\n",
              "      <td>16</td>\n",
              "    </tr>\n",
              "    <tr>\n",
              "      <th>4</th>\n",
              "      <td>Suhas Kadav</td>\n",
              "      <td>16</td>\n",
              "    </tr>\n",
              "    <tr>\n",
              "      <th>5</th>\n",
              "      <td>Jay Karas</td>\n",
              "      <td>15</td>\n",
              "    </tr>\n",
              "    <tr>\n",
              "      <th>6</th>\n",
              "      <td>Cathy Garcia-Molina</td>\n",
              "      <td>13</td>\n",
              "    </tr>\n",
              "    <tr>\n",
              "      <th>7</th>\n",
              "      <td>Martin Scorsese</td>\n",
              "      <td>12</td>\n",
              "    </tr>\n",
              "    <tr>\n",
              "      <th>8</th>\n",
              "      <td>Youssef Chahine</td>\n",
              "      <td>12</td>\n",
              "    </tr>\n",
              "    <tr>\n",
              "      <th>9</th>\n",
              "      <td>Jay Chapman</td>\n",
              "      <td>12</td>\n",
              "    </tr>\n",
              "  </tbody>\n",
              "</table>\n",
              "</div>"
            ],
            "text/plain": [
              "              director  show_count\n",
              "0        Rajiv Chilaka          22\n",
              "1            Jan Suter          21\n",
              "2          Raúl Campos          19\n",
              "3         Marcus Raboy          16\n",
              "4          Suhas Kadav          16\n",
              "5            Jay Karas          15\n",
              "6  Cathy Garcia-Molina          13\n",
              "7      Martin Scorsese          12\n",
              "8      Youssef Chahine          12\n",
              "9          Jay Chapman          12"
            ]
          },
          "execution_count": 33,
          "metadata": {},
          "output_type": "execute_result"
        }
      ],
      "source": [
        "con = duckdb.connect('netflix_final.duckdb')\n",
        "\n",
        "query = \"\"\"\n",
        "SELECT d.name AS director, COUNT(sd.show_id) AS show_count\n",
        "FROM directors d\n",
        "JOIN show_directors sd ON d.id = sd.director_id\n",
        "GROUP BY d.name\n",
        "ORDER BY show_count DESC\n",
        "LIMIT 10;\n",
        "\"\"\"\n",
        "\n",
        "result = con.sql(query).df()\n",
        "result"
      ]
    },
    {
      "cell_type": "code",
      "execution_count": 34,
      "metadata": {},
      "outputs": [
        {
          "data": {
            "image/png": "[encoded data removed]",
            "text/plain": [
              "<Figure size 900x700 with 1 Axes>"
            ]
          },
          "metadata": {},
          "output_type": "display_data"
        }
      ],
      "source": [
        "sns.set_style(\"white\")\n",
        "plt.figure(figsize=(9, 7))\n",
        "colors = sns.color_palette(\"husl\", len(result))\n",
        "bars = plt.barh(result['director'], result['show_count'], color=colors)\n",
        "\n",
        "for i, (bar, value) in enumerate(zip(bars, result['show_count'])):\n",
        "    plt.text(value + 0.3, i, f'{value}', \n",
        "             va='center', fontsize=10, fontweight='bold')\n",
        "\n",
        "plt.xlabel('Number of shows', fontsize=12, fontweight='bold')\n",
        "plt.ylabel('Director', fontsize=12, fontweight='bold')\n",
        "plt.title('Top 10 Netflix directors by number of shows', fontsize=14, fontweight='bold', pad=20)\n",
        "plt.xlim(0, max(result['show_count']) + 2)\n",
        "plt.gca().invert_yaxis()\n",
        "sns.despine()\n",
        "plt.tight_layout()\n",
        "plt.show()"
      ]
    },
    {
      "cell_type": "code",
      "execution_count": 35,
      "metadata": {},
      "outputs": [],
      "source": [
        "con.close()"
      ]
    },
    {
      "cell_type": "markdown",
      "metadata": {},
      "source": [
        "---"
      ]
    },
    {
      "cell_type": "markdown",
      "metadata": {},
      "source": [
        "**Distribution of shows by age rating**"
      ]
    },
    {
      "cell_type": "code",
      "execution_count": 36,
      "metadata": {},
      "outputs": [
        {
          "data": {
            "application/vnd.microsoft.datawrangler.viewer.v0+json": {
              "columns": [
                {
                  "name": "index",
                  "rawType": "int64",
                  "type": "integer"
                },
                {
                  "name": "rating",
                  "rawType": "object",
                  "type": "unknown"
                },
                {
                  "name": "total",
                  "rawType": "int64",
                  "type": "integer"
                }
              ],
              "ref": "9b276189-4b60-4982-a9c0-6d22ec085e36",
              "rows": [
                [
                  "0",
                  "TV-MA",
                  "3207"
                ],
                [
                  "1",
                  "TV-14",
                  "2160"
                ],
                [
                  "2",
                  "TV-PG",
                  "863"
                ],
                [
                  "3",
                  "R",
                  "799"
                ],
                [
                  "4",
                  "PG-13",
                  "490"
                ],
                [
                  "5",
                  "TV-Y7",
                  "334"
                ],
                [
                  "6",
                  "TV-Y",
                  "307"
                ],
                [
                  "7",
                  "PG",
                  "287"
                ],
                [
                  "8",
                  "TV-G",
                  "220"
                ],
                [
                  "9",
                  "NR",
                  "80"
                ],
                [
                  "10",
                  "G",
                  "41"
                ],
                [
                  "11",
                  null,
                  "7"
                ],
                [
                  "12",
                  "TV-Y7-FV",
                  "6"
                ],
                [
                  "13",
                  "UR",
                  "3"
                ],
                [
                  "14",
                  "NC-17",
                  "3"
                ]
              ],
              "shape": {
                "columns": 2,
                "rows": 15
              }
            },
            "text/html": [
              "<div>\n",
              "<style scoped>\n",
              "    .dataframe tbody tr th:only-of-type {\n",
              "        vertical-align: middle;\n",
              "    }\n",
              "\n",
              "    .dataframe tbody tr th {\n",
              "        vertical-align: top;\n",
              "    }\n",
              "\n",
              "    .dataframe thead th {\n",
              "        text-align: right;\n",
              "    }\n",
              "</style>\n",
              "<table border=\"1\" class=\"dataframe\">\n",
              "  <thead>\n",
              "    <tr style=\"text-align: right;\">\n",
              "      <th></th>\n",
              "      <th>rating</th>\n",
              "      <th>total</th>\n",
              "    </tr>\n",
              "  </thead>\n",
              "  <tbody>\n",
              "    <tr>\n",
              "      <th>0</th>\n",
              "      <td>TV-MA</td>\n",
              "      <td>3207</td>\n",
              "    </tr>\n",
              "    <tr>\n",
              "      <th>1</th>\n",
              "      <td>TV-14</td>\n",
              "      <td>2160</td>\n",
              "    </tr>\n",
              "    <tr>\n",
              "      <th>2</th>\n",
              "      <td>TV-PG</td>\n",
              "      <td>863</td>\n",
              "    </tr>\n",
              "    <tr>\n",
              "      <th>3</th>\n",
              "      <td>R</td>\n",
              "      <td>799</td>\n",
              "    </tr>\n",
              "    <tr>\n",
              "      <th>4</th>\n",
              "      <td>PG-13</td>\n",
              "      <td>490</td>\n",
              "    </tr>\n",
              "    <tr>\n",
              "      <th>5</th>\n",
              "      <td>TV-Y7</td>\n",
              "      <td>334</td>\n",
              "    </tr>\n",
              "    <tr>\n",
              "      <th>6</th>\n",
              "      <td>TV-Y</td>\n",
              "      <td>307</td>\n",
              "    </tr>\n",
              "    <tr>\n",
              "      <th>7</th>\n",
              "      <td>PG</td>\n",
              "      <td>287</td>\n",
              "    </tr>\n",
              "    <tr>\n",
              "      <th>8</th>\n",
              "      <td>TV-G</td>\n",
              "      <td>220</td>\n",
              "    </tr>\n",
              "    <tr>\n",
              "      <th>9</th>\n",
              "      <td>NR</td>\n",
              "      <td>80</td>\n",
              "    </tr>\n",
              "    <tr>\n",
              "      <th>10</th>\n",
              "      <td>G</td>\n",
              "      <td>41</td>\n",
              "    </tr>\n",
              "    <tr>\n",
              "      <th>11</th>\n",
              "      <td>None</td>\n",
              "      <td>7</td>\n",
              "    </tr>\n",
              "    <tr>\n",
              "      <th>12</th>\n",
              "      <td>TV-Y7-FV</td>\n",
              "      <td>6</td>\n",
              "    </tr>\n",
              "    <tr>\n",
              "      <th>13</th>\n",
              "      <td>UR</td>\n",
              "      <td>3</td>\n",
              "    </tr>\n",
              "    <tr>\n",
              "      <th>14</th>\n",
              "      <td>NC-17</td>\n",
              "      <td>3</td>\n",
              "    </tr>\n",
              "  </tbody>\n",
              "</table>\n",
              "</div>"
            ],
            "text/plain": [
              "      rating  total\n",
              "0      TV-MA   3207\n",
              "1      TV-14   2160\n",
              "2      TV-PG    863\n",
              "3          R    799\n",
              "4      PG-13    490\n",
              "5      TV-Y7    334\n",
              "6       TV-Y    307\n",
              "7         PG    287\n",
              "8       TV-G    220\n",
              "9         NR     80\n",
              "10         G     41\n",
              "11      None      7\n",
              "12  TV-Y7-FV      6\n",
              "13        UR      3\n",
              "14     NC-17      3"
            ]
          },
          "execution_count": 36,
          "metadata": {},
          "output_type": "execute_result"
        }
      ],
      "source": [
        "con = duckdb.connect('netflix_final.duckdb')\n",
        "\n",
        "query = \"\"\"\n",
        "SELECT \n",
        "    rating,\n",
        "    COUNT(*) AS total\n",
        "FROM shows\n",
        "GROUP BY rating\n",
        "ORDER BY total DESC;\n",
        "\"\"\"\n",
        "\n",
        "result = con.sql(query).df()\n",
        "result"
      ]
    },
    {
      "cell_type": "code",
      "execution_count": 37,
      "metadata": {},
      "outputs": [],
      "source": [
        "con.close()"
      ]
    },
    {
      "cell_type": "markdown",
      "metadata": {},
      "source": [
        "**Dynamics of age ratings over the years**"
      ]
    },
    {
      "cell_type": "code",
      "execution_count": 38,
      "metadata": {},
      "outputs": [
        {
          "data": {
            "application/vnd.microsoft.datawrangler.viewer.v0+json": {
              "columns": [
                {
                  "name": "release_year",
                  "rawType": "int32",
                  "type": "integer"
                },
                {
                  "name": "PG",
                  "rawType": "float64",
                  "type": "float"
                },
                {
                  "name": "PG-13",
                  "rawType": "float64",
                  "type": "float"
                },
                {
                  "name": "R",
                  "rawType": "float64",
                  "type": "float"
                },
                {
                  "name": "TV-14",
                  "rawType": "float64",
                  "type": "float"
                },
                {
                  "name": "TV-MA",
                  "rawType": "float64",
                  "type": "float"
                },
                {
                  "name": "TV-PG",
                  "rawType": "float64",
                  "type": "float"
                },
                {
                  "name": "TV-Y",
                  "rawType": "float64",
                  "type": "float"
                },
                {
                  "name": "TV-Y7",
                  "rawType": "float64",
                  "type": "float"
                }
              ],
              "ref": "694c2e92-7e6b-42f5-b6aa-35a26cb51d63",
              "rows": [
                [
                  "1925",
                  "0.0",
                  "0.0",
                  "0.0",
                  "1.0",
                  "0.0",
                  "0.0",
                  "0.0",
                  "0.0"
                ],
                [
                  "1942",
                  "0.0",
                  "0.0",
                  "0.0",
                  "2.0",
                  "0.0",
                  "0.0",
                  "0.0",
                  "0.0"
                ],
                [
                  "1943",
                  "0.0",
                  "0.0",
                  "0.0",
                  "0.0",
                  "0.0",
                  "3.0",
                  "0.0",
                  "0.0"
                ],
                [
                  "1944",
                  "0.0",
                  "0.0",
                  "0.0",
                  "2.0",
                  "0.0",
                  "1.0",
                  "0.0",
                  "0.0"
                ],
                [
                  "1945",
                  "0.0",
                  "0.0",
                  "0.0",
                  "2.0",
                  "2.0",
                  "0.0",
                  "0.0",
                  "0.0"
                ],
                [
                  "1946",
                  "0.0",
                  "0.0",
                  "0.0",
                  "1.0",
                  "0.0",
                  "1.0",
                  "0.0",
                  "0.0"
                ],
                [
                  "1947",
                  "0.0",
                  "0.0",
                  "0.0",
                  "0.0",
                  "0.0",
                  "1.0",
                  "0.0",
                  "0.0"
                ],
                [
                  "1954",
                  "0.0",
                  "0.0",
                  "0.0",
                  "1.0",
                  "0.0",
                  "0.0",
                  "0.0",
                  "0.0"
                ],
                [
                  "1955",
                  "0.0",
                  "1.0",
                  "0.0",
                  "1.0",
                  "0.0",
                  "1.0",
                  "0.0",
                  "0.0"
                ],
                [
                  "1956",
                  "0.0",
                  "0.0",
                  "0.0",
                  "1.0",
                  "0.0",
                  "0.0",
                  "0.0",
                  "0.0"
                ],
                [
                  "1958",
                  "0.0",
                  "0.0",
                  "0.0",
                  "1.0",
                  "0.0",
                  "0.0",
                  "0.0",
                  "0.0"
                ],
                [
                  "1959",
                  "0.0",
                  "0.0",
                  "0.0",
                  "1.0",
                  "0.0",
                  "0.0",
                  "0.0",
                  "0.0"
                ],
                [
                  "1960",
                  "0.0",
                  "0.0",
                  "0.0",
                  "2.0",
                  "0.0",
                  "2.0",
                  "0.0",
                  "0.0"
                ],
                [
                  "1961",
                  "0.0",
                  "0.0",
                  "0.0",
                  "1.0",
                  "0.0",
                  "0.0",
                  "0.0",
                  "0.0"
                ],
                [
                  "1962",
                  "0.0",
                  "0.0",
                  "1.0",
                  "0.0",
                  "0.0",
                  "2.0",
                  "0.0",
                  "0.0"
                ],
                [
                  "1963",
                  "0.0",
                  "0.0",
                  "0.0",
                  "1.0",
                  "1.0",
                  "0.0",
                  "0.0",
                  "0.0"
                ],
                [
                  "1964",
                  "0.0",
                  "0.0",
                  "0.0",
                  "1.0",
                  "0.0",
                  "0.0",
                  "0.0",
                  "0.0"
                ],
                [
                  "1965",
                  "0.0",
                  "1.0",
                  "0.0",
                  "1.0",
                  "0.0",
                  "0.0",
                  "0.0",
                  "0.0"
                ],
                [
                  "1966",
                  "0.0",
                  "0.0",
                  "0.0",
                  "0.0",
                  "0.0",
                  "1.0",
                  "0.0",
                  "0.0"
                ],
                [
                  "1967",
                  "0.0",
                  "0.0",
                  "2.0",
                  "1.0",
                  "1.0",
                  "0.0",
                  "0.0",
                  "0.0"
                ],
                [
                  "1968",
                  "0.0",
                  "1.0",
                  "1.0",
                  "0.0",
                  "0.0",
                  "0.0",
                  "0.0",
                  "0.0"
                ],
                [
                  "1969",
                  "0.0",
                  "0.0",
                  "0.0",
                  "0.0",
                  "0.0",
                  "1.0",
                  "0.0",
                  "0.0"
                ],
                [
                  "1970",
                  "0.0",
                  "0.0",
                  "0.0",
                  "0.0",
                  "1.0",
                  "1.0",
                  "0.0",
                  "0.0"
                ],
                [
                  "1971",
                  "0.0",
                  "0.0",
                  "1.0",
                  "2.0",
                  "0.0",
                  "0.0",
                  "0.0",
                  "0.0"
                ],
                [
                  "1972",
                  "0.0",
                  "0.0",
                  "1.0",
                  "1.0",
                  "2.0",
                  "1.0",
                  "0.0",
                  "0.0"
                ],
                [
                  "1973",
                  "1.0",
                  "0.0",
                  "3.0",
                  "3.0",
                  "1.0",
                  "0.0",
                  "0.0",
                  "0.0"
                ],
                [
                  "1974",
                  "1.0",
                  "0.0",
                  "2.0",
                  "2.0",
                  "0.0",
                  "1.0",
                  "0.0",
                  "0.0"
                ],
                [
                  "1975",
                  "2.0",
                  "0.0",
                  "0.0",
                  "2.0",
                  "2.0",
                  "1.0",
                  "0.0",
                  "0.0"
                ],
                [
                  "1976",
                  "4.0",
                  "0.0",
                  "1.0",
                  "1.0",
                  "1.0",
                  "2.0",
                  "0.0",
                  "0.0"
                ],
                [
                  "1977",
                  "2.0",
                  "0.0",
                  "0.0",
                  "1.0",
                  "1.0",
                  "2.0",
                  "0.0",
                  "0.0"
                ],
                [
                  "1978",
                  "2.0",
                  "0.0",
                  "1.0",
                  "0.0",
                  "2.0",
                  "1.0",
                  "0.0",
                  "0.0"
                ],
                [
                  "1979",
                  "1.0",
                  "1.0",
                  "2.0",
                  "3.0",
                  "2.0",
                  "2.0",
                  "0.0",
                  "0.0"
                ],
                [
                  "1980",
                  "1.0",
                  "0.0",
                  "5.0",
                  "4.0",
                  "0.0",
                  "1.0",
                  "0.0",
                  "0.0"
                ],
                [
                  "1981",
                  "2.0",
                  "0.0",
                  "2.0",
                  "5.0",
                  "1.0",
                  "1.0",
                  "0.0",
                  "1.0"
                ],
                [
                  "1982",
                  "2.0",
                  "0.0",
                  "3.0",
                  "8.0",
                  "2.0",
                  "2.0",
                  "0.0",
                  "0.0"
                ],
                [
                  "1983",
                  "1.0",
                  "0.0",
                  "0.0",
                  "6.0",
                  "4.0",
                  "0.0",
                  "0.0",
                  "0.0"
                ],
                [
                  "1984",
                  "4.0",
                  "1.0",
                  "1.0",
                  "5.0",
                  "1.0",
                  "0.0",
                  "0.0",
                  "0.0"
                ],
                [
                  "1985",
                  "1.0",
                  "0.0",
                  "0.0",
                  "5.0",
                  "3.0",
                  "0.0",
                  "0.0",
                  "0.0"
                ],
                [
                  "1986",
                  "2.0",
                  "2.0",
                  "2.0",
                  "5.0",
                  "1.0",
                  "0.0",
                  "0.0",
                  "0.0"
                ],
                [
                  "1987",
                  "0.0",
                  "2.0",
                  "2.0",
                  "1.0",
                  "1.0",
                  "1.0",
                  "0.0",
                  "0.0"
                ],
                [
                  "1988",
                  "0.0",
                  "3.0",
                  "5.0",
                  "3.0",
                  "1.0",
                  "6.0",
                  "0.0",
                  "0.0"
                ],
                [
                  "1989",
                  "3.0",
                  "2.0",
                  "1.0",
                  "4.0",
                  "2.0",
                  "2.0",
                  "0.0",
                  "1.0"
                ],
                [
                  "1990",
                  "1.0",
                  "4.0",
                  "4.0",
                  "9.0",
                  "3.0",
                  "1.0",
                  "0.0",
                  "0.0"
                ],
                [
                  "1991",
                  "1.0",
                  "2.0",
                  "2.0",
                  "2.0",
                  "5.0",
                  "1.0",
                  "0.0",
                  "0.0"
                ],
                [
                  "1992",
                  "3.0",
                  "1.0",
                  "11.0",
                  "2.0",
                  "3.0",
                  "2.0",
                  "1.0",
                  "0.0"
                ],
                [
                  "1993",
                  "4.0",
                  "4.0",
                  "6.0",
                  "6.0",
                  "4.0",
                  "2.0",
                  "0.0",
                  "1.0"
                ],
                [
                  "1994",
                  "3.0",
                  "4.0",
                  "4.0",
                  "7.0",
                  "1.0",
                  "2.0",
                  "0.0",
                  "0.0"
                ],
                [
                  "1995",
                  "2.0",
                  "10.0",
                  "4.0",
                  "4.0",
                  "1.0",
                  "2.0",
                  "0.0",
                  "0.0"
                ],
                [
                  "1996",
                  "1.0",
                  "6.0",
                  "9.0",
                  "4.0",
                  "0.0",
                  "2.0",
                  "0.0",
                  "2.0"
                ],
                [
                  "1997",
                  "1.0",
                  "9.0",
                  "16.0",
                  "4.0",
                  "3.0",
                  "1.0",
                  "1.0",
                  "1.0"
                ]
              ],
              "shape": {
                "columns": 8,
                "rows": 74
              }
            },
            "text/html": [
              "<div>\n",
              "<style scoped>\n",
              "    .dataframe tbody tr th:only-of-type {\n",
              "        vertical-align: middle;\n",
              "    }\n",
              "\n",
              "    .dataframe tbody tr th {\n",
              "        vertical-align: top;\n",
              "    }\n",
              "\n",
              "    .dataframe thead th {\n",
              "        text-align: right;\n",
              "    }\n",
              "</style>\n",
              "<table border=\"1\" class=\"dataframe\">\n",
              "  <thead>\n",
              "    <tr style=\"text-align: right;\">\n",
              "      <th>rating</th>\n",
              "      <th>PG</th>\n",
              "      <th>PG-13</th>\n",
              "      <th>R</th>\n",
              "      <th>TV-14</th>\n",
              "      <th>TV-MA</th>\n",
              "      <th>TV-PG</th>\n",
              "      <th>TV-Y</th>\n",
              "      <th>TV-Y7</th>\n",
              "    </tr>\n",
              "    <tr>\n",
              "      <th>release_year</th>\n",
              "      <th></th>\n",
              "      <th></th>\n",
              "      <th></th>\n",
              "      <th></th>\n",
              "      <th></th>\n",
              "      <th></th>\n",
              "      <th></th>\n",
              "      <th></th>\n",
              "    </tr>\n",
              "  </thead>\n",
              "  <tbody>\n",
              "    <tr>\n",
              "      <th>1925</th>\n",
              "      <td>0.0</td>\n",
              "      <td>0.0</td>\n",
              "      <td>0.0</td>\n",
              "      <td>1.0</td>\n",
              "      <td>0.0</td>\n",
              "      <td>0.0</td>\n",
              "      <td>0.0</td>\n",
              "      <td>0.0</td>\n",
              "    </tr>\n",
              "    <tr>\n",
              "      <th>1942</th>\n",
              "      <td>0.0</td>\n",
              "      <td>0.0</td>\n",
              "      <td>0.0</td>\n",
              "      <td>2.0</td>\n",
              "      <td>0.0</td>\n",
              "      <td>0.0</td>\n",
              "      <td>0.0</td>\n",
              "      <td>0.0</td>\n",
              "    </tr>\n",
              "    <tr>\n",
              "      <th>1943</th>\n",
              "      <td>0.0</td>\n",
              "      <td>0.0</td>\n",
              "      <td>0.0</td>\n",
              "      <td>0.0</td>\n",
              "      <td>0.0</td>\n",
              "      <td>3.0</td>\n",
              "      <td>0.0</td>\n",
              "      <td>0.0</td>\n",
              "    </tr>\n",
              "    <tr>\n",
              "      <th>1944</th>\n",
              "      <td>0.0</td>\n",
              "      <td>0.0</td>\n",
              "      <td>0.0</td>\n",
              "      <td>2.0</td>\n",
              "      <td>0.0</td>\n",
              "      <td>1.0</td>\n",
              "      <td>0.0</td>\n",
              "      <td>0.0</td>\n",
              "    </tr>\n",
              "    <tr>\n",
              "      <th>1945</th>\n",
              "      <td>0.0</td>\n",
              "      <td>0.0</td>\n",
              "      <td>0.0</td>\n",
              "      <td>2.0</td>\n",
              "      <td>2.0</td>\n",
              "      <td>0.0</td>\n",
              "      <td>0.0</td>\n",
              "      <td>0.0</td>\n",
              "    </tr>\n",
              "    <tr>\n",
              "      <th>...</th>\n",
              "      <td>...</td>\n",
              "      <td>...</td>\n",
              "      <td>...</td>\n",
              "      <td>...</td>\n",
              "      <td>...</td>\n",
              "      <td>...</td>\n",
              "      <td>...</td>\n",
              "      <td>...</td>\n",
              "    </tr>\n",
              "    <tr>\n",
              "      <th>2017</th>\n",
              "      <td>15.0</td>\n",
              "      <td>32.0</td>\n",
              "      <td>73.0</td>\n",
              "      <td>251.0</td>\n",
              "      <td>451.0</td>\n",
              "      <td>111.0</td>\n",
              "      <td>31.0</td>\n",
              "      <td>37.0</td>\n",
              "    </tr>\n",
              "    <tr>\n",
              "      <th>2018</th>\n",
              "      <td>31.0</td>\n",
              "      <td>30.0</td>\n",
              "      <td>52.0</td>\n",
              "      <td>268.0</td>\n",
              "      <td>549.0</td>\n",
              "      <td>105.0</td>\n",
              "      <td>41.0</td>\n",
              "      <td>40.0</td>\n",
              "    </tr>\n",
              "    <tr>\n",
              "      <th>2019</th>\n",
              "      <td>12.0</td>\n",
              "      <td>19.0</td>\n",
              "      <td>39.0</td>\n",
              "      <td>252.0</td>\n",
              "      <td>500.0</td>\n",
              "      <td>98.0</td>\n",
              "      <td>50.0</td>\n",
              "      <td>36.0</td>\n",
              "    </tr>\n",
              "    <tr>\n",
              "      <th>2020</th>\n",
              "      <td>15.0</td>\n",
              "      <td>21.0</td>\n",
              "      <td>48.0</td>\n",
              "      <td>174.0</td>\n",
              "      <td>469.0</td>\n",
              "      <td>80.0</td>\n",
              "      <td>59.0</td>\n",
              "      <td>41.0</td>\n",
              "    </tr>\n",
              "    <tr>\n",
              "      <th>2021</th>\n",
              "      <td>11.0</td>\n",
              "      <td>14.0</td>\n",
              "      <td>21.0</td>\n",
              "      <td>151.0</td>\n",
              "      <td>270.0</td>\n",
              "      <td>45.0</td>\n",
              "      <td>26.0</td>\n",
              "      <td>33.0</td>\n",
              "    </tr>\n",
              "  </tbody>\n",
              "</table>\n",
              "<p>74 rows × 8 columns</p>\n",
              "</div>"
            ],
            "text/plain": [
              "rating          PG  PG-13     R  TV-14  TV-MA  TV-PG  TV-Y  TV-Y7\n",
              "release_year                                                     \n",
              "1925           0.0    0.0   0.0    1.0    0.0    0.0   0.0    0.0\n",
              "1942           0.0    0.0   0.0    2.0    0.0    0.0   0.0    0.0\n",
              "1943           0.0    0.0   0.0    0.0    0.0    3.0   0.0    0.0\n",
              "1944           0.0    0.0   0.0    2.0    0.0    1.0   0.0    0.0\n",
              "1945           0.0    0.0   0.0    2.0    2.0    0.0   0.0    0.0\n",
              "...            ...    ...   ...    ...    ...    ...   ...    ...\n",
              "2017          15.0   32.0  73.0  251.0  451.0  111.0  31.0   37.0\n",
              "2018          31.0   30.0  52.0  268.0  549.0  105.0  41.0   40.0\n",
              "2019          12.0   19.0  39.0  252.0  500.0   98.0  50.0   36.0\n",
              "2020          15.0   21.0  48.0  174.0  469.0   80.0  59.0   41.0\n",
              "2021          11.0   14.0  21.0  151.0  270.0   45.0  26.0   33.0\n",
              "\n",
              "[74 rows x 8 columns]"
            ]
          },
          "execution_count": 38,
          "metadata": {},
          "output_type": "execute_result"
        }
      ],
      "source": [
        "con = duckdb.connect('netflix_final.duckdb')\n",
        "\n",
        "query = \"\"\"\n",
        "WITH top_ratings AS (\n",
        "    SELECT rating\n",
        "    FROM shows\n",
        "    GROUP BY rating\n",
        "    ORDER BY COUNT(*) DESC\n",
        "    LIMIT 8\n",
        ")\n",
        "SELECT \n",
        "    release_year,\n",
        "    s.rating,\n",
        "    COUNT(*) AS total\n",
        "FROM shows s\n",
        "INNER JOIN top_ratings tr ON s.rating = tr.rating\n",
        "GROUP BY release_year, s.rating\n",
        "ORDER BY release_year, total DESC;\n",
        "\"\"\"\n",
        "\n",
        "result = con.sql(query).df()\n",
        "\n",
        "result_pivot = result.pivot(index='release_year', columns='rating', values='total').fillna(0)\n",
        "result_pivot"
      ]
    },
    {
      "cell_type": "code",
      "execution_count": 39,
      "metadata": {},
      "outputs": [
        {
          "data": {
            "image/png": "[encoded data removed]",
            "text/plain": [
              "<Figure size 900x600 with 1 Axes>"
            ]
          },
          "metadata": {},
          "output_type": "display_data"
        }
      ],
      "source": [
        "sns.set_style(\"white\")\n",
        "plt.figure(figsize=(9, 6))\n",
        "\n",
        "ratings = result_pivot.columns\n",
        "colors = ['#1f77b4', '#ff7f0e', '#2ca02c', '#d62728', '#9467bd', '#8c564b', '#e377c2', '#7f7f7f']\n",
        "\n",
        "for i, rating in enumerate(ratings):\n",
        "    plt.plot(result_pivot.index, result_pivot[rating], \n",
        "             color=colors[i % len(colors)], linewidth=2.5, marker='o', markersize=5,\n",
        "             label=rating, alpha=0.8)\n",
        "\n",
        "plt.xlabel('Release year', fontsize=12, fontweight='bold')\n",
        "plt.ylabel('Number of shows', fontsize=12, fontweight='bold')\n",
        "plt.title('Dynamics of age ratings over the years', \n",
        "          fontsize=14, fontweight='bold', pad=20)\n",
        "plt.legend(fontsize=11, loc='upper left')\n",
        "plt.grid(True, alpha=0.3, linestyle='--')\n",
        "sns.despine()\n",
        "plt.tight_layout()\n",
        "\n",
        "plt.show()"
      ]
    },
    {
      "cell_type": "code",
      "execution_count": 40,
      "metadata": {},
      "outputs": [],
      "source": [
        "con.close()"
      ]
    },
    {
      "cell_type": "markdown",
      "metadata": {},
      "source": [
        "---"
      ]
    },
    {
      "cell_type": "markdown",
      "metadata": {},
      "source": [
        "**Top 10 most frequent pairs of actors who appeared together**"
      ]
    },
    {
      "cell_type": "code",
      "execution_count": 41,
      "metadata": {},
      "outputs": [
        {
          "data": {
            "application/vnd.microsoft.datawrangler.viewer.v0+json": {
              "columns": [
                {
                  "name": "index",
                  "rawType": "int64",
                  "type": "integer"
                },
                {
                  "name": "actor1",
                  "rawType": "object",
                  "type": "string"
                },
                {
                  "name": "actor2",
                  "rawType": "object",
                  "type": "string"
                },
                {
                  "name": "times_together",
                  "rawType": "int64",
                  "type": "integer"
                }
              ],
              "ref": "004d7ba3-5592-47cc-9cd6-e2b9102db46f",
              "rows": [
                [
                  "0",
                  "Julie Tejwani",
                  "Rupa Bhimani",
                  "31"
                ],
                [
                  "1",
                  "Julie Tejwani",
                  "Rajesh Kava",
                  "24"
                ],
                [
                  "2",
                  "Rajesh Kava",
                  "Rupa Bhimani",
                  "22"
                ],
                [
                  "3",
                  "Jigna Bhardwaj",
                  "Julie Tejwani",
                  "21"
                ],
                [
                  "4",
                  "Jigna Bhardwaj",
                  "Rupa Bhimani",
                  "20"
                ],
                [
                  "5",
                  "Jigna Bhardwaj",
                  "Rajesh Kava",
                  "20"
                ],
                [
                  "6",
                  "Julie Tejwani",
                  "Vatsal Dubey",
                  "18"
                ],
                [
                  "7",
                  "Jigna Bhardwaj",
                  "Vatsal Dubey",
                  "18"
                ],
                [
                  "8",
                  "Rupa Bhimani",
                  "Vatsal Dubey",
                  "18"
                ],
                [
                  "9",
                  "Rajesh Kava",
                  "Vatsal Dubey",
                  "17"
                ]
              ],
              "shape": {
                "columns": 3,
                "rows": 10
              }
            },
            "text/html": [
              "<div>\n",
              "<style scoped>\n",
              "    .dataframe tbody tr th:only-of-type {\n",
              "        vertical-align: middle;\n",
              "    }\n",
              "\n",
              "    .dataframe tbody tr th {\n",
              "        vertical-align: top;\n",
              "    }\n",
              "\n",
              "    .dataframe thead th {\n",
              "        text-align: right;\n",
              "    }\n",
              "</style>\n",
              "<table border=\"1\" class=\"dataframe\">\n",
              "  <thead>\n",
              "    <tr style=\"text-align: right;\">\n",
              "      <th></th>\n",
              "      <th>actor1</th>\n",
              "      <th>actor2</th>\n",
              "      <th>times_together</th>\n",
              "    </tr>\n",
              "  </thead>\n",
              "  <tbody>\n",
              "    <tr>\n",
              "      <th>0</th>\n",
              "      <td>Julie Tejwani</td>\n",
              "      <td>Rupa Bhimani</td>\n",
              "      <td>31</td>\n",
              "    </tr>\n",
              "    <tr>\n",
              "      <th>1</th>\n",
              "      <td>Julie Tejwani</td>\n",
              "      <td>Rajesh Kava</td>\n",
              "      <td>24</td>\n",
              "    </tr>\n",
              "    <tr>\n",
              "      <th>2</th>\n",
              "      <td>Rajesh Kava</td>\n",
              "      <td>Rupa Bhimani</td>\n",
              "      <td>22</td>\n",
              "    </tr>\n",
              "    <tr>\n",
              "      <th>3</th>\n",
              "      <td>Jigna Bhardwaj</td>\n",
              "      <td>Julie Tejwani</td>\n",
              "      <td>21</td>\n",
              "    </tr>\n",
              "    <tr>\n",
              "      <th>4</th>\n",
              "      <td>Jigna Bhardwaj</td>\n",
              "      <td>Rupa Bhimani</td>\n",
              "      <td>20</td>\n",
              "    </tr>\n",
              "    <tr>\n",
              "      <th>5</th>\n",
              "      <td>Jigna Bhardwaj</td>\n",
              "      <td>Rajesh Kava</td>\n",
              "      <td>20</td>\n",
              "    </tr>\n",
              "    <tr>\n",
              "      <th>6</th>\n",
              "      <td>Julie Tejwani</td>\n",
              "      <td>Vatsal Dubey</td>\n",
              "      <td>18</td>\n",
              "    </tr>\n",
              "    <tr>\n",
              "      <th>7</th>\n",
              "      <td>Jigna Bhardwaj</td>\n",
              "      <td>Vatsal Dubey</td>\n",
              "      <td>18</td>\n",
              "    </tr>\n",
              "    <tr>\n",
              "      <th>8</th>\n",
              "      <td>Rupa Bhimani</td>\n",
              "      <td>Vatsal Dubey</td>\n",
              "      <td>18</td>\n",
              "    </tr>\n",
              "    <tr>\n",
              "      <th>9</th>\n",
              "      <td>Rajesh Kava</td>\n",
              "      <td>Vatsal Dubey</td>\n",
              "      <td>17</td>\n",
              "    </tr>\n",
              "  </tbody>\n",
              "</table>\n",
              "</div>"
            ],
            "text/plain": [
              "           actor1         actor2  times_together\n",
              "0   Julie Tejwani   Rupa Bhimani              31\n",
              "1   Julie Tejwani    Rajesh Kava              24\n",
              "2     Rajesh Kava   Rupa Bhimani              22\n",
              "3  Jigna Bhardwaj  Julie Tejwani              21\n",
              "4  Jigna Bhardwaj   Rupa Bhimani              20\n",
              "5  Jigna Bhardwaj    Rajesh Kava              20\n",
              "6   Julie Tejwani   Vatsal Dubey              18\n",
              "7  Jigna Bhardwaj   Vatsal Dubey              18\n",
              "8    Rupa Bhimani   Vatsal Dubey              18\n",
              "9     Rajesh Kava   Vatsal Dubey              17"
            ]
          },
          "execution_count": 41,
          "metadata": {},
          "output_type": "execute_result"
        }
      ],
      "source": [
        "con = duckdb.connect('netflix_final.duckdb')\n",
        "\n",
        "query = \"\"\"\n",
        "WITH actor_pairs AS (\n",
        "    SELECT sa1.actor_id as actor1_id, sa2.actor_id as actor2_id, sa1.show_id\n",
        "    FROM show_actors sa1\n",
        "    JOIN show_actors sa2 ON sa1.show_id = sa2.show_id\n",
        "    WHERE sa1.actor_id < sa2.actor_id\n",
        "),\n",
        "pair_counts AS (\n",
        "    SELECT actor1_id, actor2_id, COUNT(*) as times_together\n",
        "    FROM actor_pairs ap\n",
        "    GROUP BY actor1_id, actor2_id\n",
        "    HAVING COUNT(*) >= 2\n",
        ")\n",
        "SELECT a1.name as actor1, a2.name as actor2, pc.times_together\n",
        "FROM pair_counts pc\n",
        "JOIN actors a1 ON pc.actor1_id = a1.id\n",
        "JOIN actors a2 ON pc.actor2_id = a2.id\n",
        "ORDER BY pc.times_together DESC\n",
        "LIMIT 10;\n",
        "\"\"\"\n",
        "\n",
        "result = con.sql(query).df()\n",
        "result"
      ]
    },
    {
      "cell_type": "code",
      "execution_count": 42,
      "metadata": {},
      "outputs": [],
      "source": [
        "con.close()"
      ]
    },
    {
      "cell_type": "markdown",
      "metadata": {},
      "source": [
        "---"
      ]
    },
    {
      "cell_type": "markdown",
      "metadata": {},
      "source": [
        "**Top 5 countries by number of shows**"
      ]
    },
    {
      "cell_type": "code",
      "execution_count": 43,
      "metadata": {},
      "outputs": [
        {
          "data": {
            "application/vnd.microsoft.datawrangler.viewer.v0+json": {
              "columns": [
                {
                  "name": "index",
                  "rawType": "int64",
                  "type": "integer"
                },
                {
                  "name": "country",
                  "rawType": "object",
                  "type": "string"
                },
                {
                  "name": "show_count",
                  "rawType": "int64",
                  "type": "integer"
                }
              ],
              "ref": "c88d5b6e-ce94-4d95-ab91-6277b3ed8d79",
              "rows": [
                [
                  "0",
                  "United States",
                  "3690"
                ],
                [
                  "1",
                  "India",
                  "1046"
                ],
                [
                  "2",
                  "United Kingdom",
                  "806"
                ],
                [
                  "3",
                  "Canada",
                  "445"
                ],
                [
                  "4",
                  "France",
                  "393"
                ]
              ],
              "shape": {
                "columns": 2,
                "rows": 5
              }
            },
            "text/html": [
              "<div>\n",
              "<style scoped>\n",
              "    .dataframe tbody tr th:only-of-type {\n",
              "        vertical-align: middle;\n",
              "    }\n",
              "\n",
              "    .dataframe tbody tr th {\n",
              "        vertical-align: top;\n",
              "    }\n",
              "\n",
              "    .dataframe thead th {\n",
              "        text-align: right;\n",
              "    }\n",
              "</style>\n",
              "<table border=\"1\" class=\"dataframe\">\n",
              "  <thead>\n",
              "    <tr style=\"text-align: right;\">\n",
              "      <th></th>\n",
              "      <th>country</th>\n",
              "      <th>show_count</th>\n",
              "    </tr>\n",
              "  </thead>\n",
              "  <tbody>\n",
              "    <tr>\n",
              "      <th>0</th>\n",
              "      <td>United States</td>\n",
              "      <td>3690</td>\n",
              "    </tr>\n",
              "    <tr>\n",
              "      <th>1</th>\n",
              "      <td>India</td>\n",
              "      <td>1046</td>\n",
              "    </tr>\n",
              "    <tr>\n",
              "      <th>2</th>\n",
              "      <td>United Kingdom</td>\n",
              "      <td>806</td>\n",
              "    </tr>\n",
              "    <tr>\n",
              "      <th>3</th>\n",
              "      <td>Canada</td>\n",
              "      <td>445</td>\n",
              "    </tr>\n",
              "    <tr>\n",
              "      <th>4</th>\n",
              "      <td>France</td>\n",
              "      <td>393</td>\n",
              "    </tr>\n",
              "  </tbody>\n",
              "</table>\n",
              "</div>"
            ],
            "text/plain": [
              "          country  show_count\n",
              "0   United States        3690\n",
              "1           India        1046\n",
              "2  United Kingdom         806\n",
              "3          Canada         445\n",
              "4          France         393"
            ]
          },
          "execution_count": 43,
          "metadata": {},
          "output_type": "execute_result"
        }
      ],
      "source": [
        "con = duckdb.connect('netflix_final.duckdb')\n",
        "\n",
        "query = \"\"\"\n",
        "SELECT c.name AS country, COUNT(sc.show_id) AS show_count\n",
        "FROM countries c\n",
        "JOIN show_countries sc ON c.id = sc.country_id\n",
        "GROUP BY c.name\n",
        "ORDER BY show_count DESC\n",
        "LIMIT 5;\n",
        "\"\"\"\n",
        "\n",
        "result = con.sql(query).df()\n",
        "result"
      ]
    },
    {
      "cell_type": "code",
      "execution_count": 44,
      "metadata": {},
      "outputs": [],
      "source": [
        "con.close()"
      ]
    },
    {
      "cell_type": "markdown",
      "metadata": {},
      "source": [
        "**Dynamics of show production in the top 5 most productive countries**"
      ]
    },
    {
      "cell_type": "code",
      "execution_count": 45,
      "metadata": {},
      "outputs": [
        {
          "data": {
            "application/vnd.microsoft.datawrangler.viewer.v0+json": {
              "columns": [
                {
                  "name": "index",
                  "rawType": "int64",
                  "type": "integer"
                },
                {
                  "name": "release_year",
                  "rawType": "int32",
                  "type": "integer"
                },
                {
                  "name": "country",
                  "rawType": "object",
                  "type": "string"
                },
                {
                  "name": "total_shows",
                  "rawType": "int64",
                  "type": "integer"
                }
              ],
              "ref": "7b195499-825b-44ef-be21-81f938089ef9",
              "rows": [
                [
                  "0",
                  "1942",
                  "United States",
                  "2"
                ],
                [
                  "1",
                  "1943",
                  "United States",
                  "3"
                ],
                [
                  "2",
                  "1944",
                  "United Kingdom",
                  "1"
                ],
                [
                  "3",
                  "1944",
                  "United States",
                  "3"
                ],
                [
                  "4",
                  "1945",
                  "United States",
                  "4"
                ],
                [
                  "5",
                  "1946",
                  "United States",
                  "2"
                ],
                [
                  "6",
                  "1947",
                  "United States",
                  "1"
                ],
                [
                  "7",
                  "1954",
                  "United States",
                  "1"
                ],
                [
                  "8",
                  "1955",
                  "France",
                  "1"
                ],
                [
                  "9",
                  "1955",
                  "United States",
                  "1"
                ],
                [
                  "10",
                  "1956",
                  "United States",
                  "1"
                ],
                [
                  "11",
                  "1958",
                  "United States",
                  "2"
                ],
                [
                  "12",
                  "1959",
                  "India",
                  "1"
                ],
                [
                  "13",
                  "1960",
                  "India",
                  "1"
                ],
                [
                  "14",
                  "1960",
                  "United States",
                  "2"
                ],
                [
                  "15",
                  "1961",
                  "United Kingdom",
                  "1"
                ],
                [
                  "16",
                  "1961",
                  "United States",
                  "1"
                ],
                [
                  "17",
                  "1962",
                  "India",
                  "1"
                ],
                [
                  "18",
                  "1962",
                  "United Kingdom",
                  "1"
                ],
                [
                  "19",
                  "1962",
                  "United States",
                  "2"
                ],
                [
                  "20",
                  "1963",
                  "United States",
                  "1"
                ],
                [
                  "21",
                  "1964",
                  "India",
                  "1"
                ],
                [
                  "22",
                  "1964",
                  "United States",
                  "1"
                ],
                [
                  "23",
                  "1965",
                  "United Kingdom",
                  "1"
                ],
                [
                  "24",
                  "1965",
                  "United States",
                  "2"
                ],
                [
                  "25",
                  "1966",
                  "India",
                  "1"
                ],
                [
                  "26",
                  "1967",
                  "United States",
                  "4"
                ],
                [
                  "27",
                  "1968",
                  "United Kingdom",
                  "1"
                ],
                [
                  "28",
                  "1968",
                  "United States",
                  "3"
                ],
                [
                  "29",
                  "1969",
                  "India",
                  "1"
                ],
                [
                  "30",
                  "1969",
                  "United States",
                  "1"
                ],
                [
                  "31",
                  "1971",
                  "India",
                  "2"
                ],
                [
                  "32",
                  "1971",
                  "United Kingdom",
                  "1"
                ],
                [
                  "33",
                  "1971",
                  "United States",
                  "3"
                ],
                [
                  "34",
                  "1972",
                  "India",
                  "2"
                ],
                [
                  "35",
                  "1972",
                  "United Kingdom",
                  "1"
                ],
                [
                  "36",
                  "1972",
                  "United States",
                  "2"
                ],
                [
                  "37",
                  "1973",
                  "India",
                  "2"
                ],
                [
                  "38",
                  "1973",
                  "United States",
                  "5"
                ],
                [
                  "39",
                  "1974",
                  "France",
                  "1"
                ],
                [
                  "40",
                  "1974",
                  "India",
                  "2"
                ],
                [
                  "41",
                  "1974",
                  "United Kingdom",
                  "1"
                ],
                [
                  "42",
                  "1974",
                  "United States",
                  "3"
                ],
                [
                  "43",
                  "1975",
                  "India",
                  "2"
                ],
                [
                  "44",
                  "1975",
                  "United Kingdom",
                  "1"
                ],
                [
                  "45",
                  "1975",
                  "United States",
                  "1"
                ],
                [
                  "46",
                  "1976",
                  "India",
                  "2"
                ],
                [
                  "47",
                  "1976",
                  "United States",
                  "5"
                ],
                [
                  "48",
                  "1977",
                  "India",
                  "2"
                ],
                [
                  "49",
                  "1977",
                  "United Kingdom",
                  "2"
                ]
              ],
              "shape": {
                "columns": 3,
                "rows": 237
              }
            },
            "text/html": [
              "<div>\n",
              "<style scoped>\n",
              "    .dataframe tbody tr th:only-of-type {\n",
              "        vertical-align: middle;\n",
              "    }\n",
              "\n",
              "    .dataframe tbody tr th {\n",
              "        vertical-align: top;\n",
              "    }\n",
              "\n",
              "    .dataframe thead th {\n",
              "        text-align: right;\n",
              "    }\n",
              "</style>\n",
              "<table border=\"1\" class=\"dataframe\">\n",
              "  <thead>\n",
              "    <tr style=\"text-align: right;\">\n",
              "      <th></th>\n",
              "      <th>release_year</th>\n",
              "      <th>country</th>\n",
              "      <th>total_shows</th>\n",
              "    </tr>\n",
              "  </thead>\n",
              "  <tbody>\n",
              "    <tr>\n",
              "      <th>0</th>\n",
              "      <td>1942</td>\n",
              "      <td>United States</td>\n",
              "      <td>2</td>\n",
              "    </tr>\n",
              "    <tr>\n",
              "      <th>1</th>\n",
              "      <td>1943</td>\n",
              "      <td>United States</td>\n",
              "      <td>3</td>\n",
              "    </tr>\n",
              "    <tr>\n",
              "      <th>2</th>\n",
              "      <td>1944</td>\n",
              "      <td>United Kingdom</td>\n",
              "      <td>1</td>\n",
              "    </tr>\n",
              "    <tr>\n",
              "      <th>3</th>\n",
              "      <td>1944</td>\n",
              "      <td>United States</td>\n",
              "      <td>3</td>\n",
              "    </tr>\n",
              "    <tr>\n",
              "      <th>4</th>\n",
              "      <td>1945</td>\n",
              "      <td>United States</td>\n",
              "      <td>4</td>\n",
              "    </tr>\n",
              "    <tr>\n",
              "      <th>...</th>\n",
              "      <td>...</td>\n",
              "      <td>...</td>\n",
              "      <td>...</td>\n",
              "    </tr>\n",
              "    <tr>\n",
              "      <th>232</th>\n",
              "      <td>2021</td>\n",
              "      <td>Canada</td>\n",
              "      <td>12</td>\n",
              "    </tr>\n",
              "    <tr>\n",
              "      <th>233</th>\n",
              "      <td>2021</td>\n",
              "      <td>France</td>\n",
              "      <td>13</td>\n",
              "    </tr>\n",
              "    <tr>\n",
              "      <th>234</th>\n",
              "      <td>2021</td>\n",
              "      <td>India</td>\n",
              "      <td>35</td>\n",
              "    </tr>\n",
              "    <tr>\n",
              "      <th>235</th>\n",
              "      <td>2021</td>\n",
              "      <td>United Kingdom</td>\n",
              "      <td>36</td>\n",
              "    </tr>\n",
              "    <tr>\n",
              "      <th>236</th>\n",
              "      <td>2021</td>\n",
              "      <td>United States</td>\n",
              "      <td>173</td>\n",
              "    </tr>\n",
              "  </tbody>\n",
              "</table>\n",
              "<p>237 rows × 3 columns</p>\n",
              "</div>"
            ],
            "text/plain": [
              "     release_year         country  total_shows\n",
              "0            1942   United States            2\n",
              "1            1943   United States            3\n",
              "2            1944  United Kingdom            1\n",
              "3            1944   United States            3\n",
              "4            1945   United States            4\n",
              "..            ...             ...          ...\n",
              "232          2021          Canada           12\n",
              "233          2021          France           13\n",
              "234          2021           India           35\n",
              "235          2021  United Kingdom           36\n",
              "236          2021   United States          173\n",
              "\n",
              "[237 rows x 3 columns]"
            ]
          },
          "execution_count": 45,
          "metadata": {},
          "output_type": "execute_result"
        }
      ],
      "source": [
        "con = duckdb.connect('netflix_final.duckdb')\n",
        "\n",
        "query = \"\"\"\n",
        "WITH top5_countries AS (\n",
        "    SELECT c.name\n",
        "    FROM countries c\n",
        "    JOIN show_countries sc ON c.id = sc.country_id\n",
        "    GROUP BY c.name\n",
        "    ORDER BY COUNT(sc.show_id) DESC\n",
        "    LIMIT 5\n",
        ")\n",
        "SELECT \n",
        "    s.release_year,\n",
        "    c.name AS country,\n",
        "    COUNT(sc.show_id) AS total_shows\n",
        "FROM shows s\n",
        "JOIN show_countries sc ON s.show_id = sc.show_id\n",
        "JOIN countries c ON sc.country_id = c.id\n",
        "WHERE c.name IN (SELECT name FROM top5_countries)\n",
        "GROUP BY s.release_year, c.name\n",
        "ORDER BY s.release_year, c.name;\n",
        "\"\"\"\n",
        "result = con.sql(query).df()\n",
        "\n",
        "result"
      ]
    },
    {
      "cell_type": "code",
      "execution_count": 46,
      "metadata": {},
      "outputs": [
        {
          "data": {
            "image/png": "[encoded data removed]",
            "text/plain": [
              "<Figure size 1100x600 with 1 Axes>"
            ]
          },
          "metadata": {},
          "output_type": "display_data"
        }
      ],
      "source": [
        "sns.set_style(\"white\")\n",
        "plt.figure(figsize=(11, 6))\n",
        "\n",
        "countries = result['country'].unique()\n",
        "colors = ['#1f77b4', '#ff7f0e', '#2ca02c', '#d62728', '#9467bd']\n",
        "\n",
        "for i, country in enumerate(countries):\n",
        "    country_data = result[result['country'] == country]\n",
        "    plt.plot(country_data['release_year'], country_data['total_shows'], \n",
        "             color=colors[i], linewidth=2.5, marker='o', markersize=5, \n",
        "             label=country, alpha=0.8)\n",
        "\n",
        "plt.xlabel('Release year', fontsize=12, fontweight='bold')\n",
        "plt.ylabel('Number of shows', fontsize=12, fontweight='bold')\n",
        "plt.title('Netflix content production dynamics: Top 5 countries', \n",
        "          fontsize=14, fontweight='bold', pad=20)\n",
        "plt.legend(fontsize=11, loc='upper left')\n",
        "plt.grid(True, alpha=0.3, linestyle='--')\n",
        "sns.despine()\n",
        "plt.tight_layout()\n",
        "\n",
        "plt.show()"
      ]
    },
    {
      "cell_type": "code",
      "execution_count": 47,
      "metadata": {},
      "outputs": [],
      "source": [
        "con.close()"
      ]
    },
    {
      "cell_type": "markdown",
      "metadata": {},
      "source": [
        "---"
      ]
    },
    {
      "cell_type": "markdown",
      "metadata": {},
      "source": [
        "**Top 6 genres among all genres by percentage share**"
      ]
    },
    {
      "cell_type": "code",
      "execution_count": 48,
      "metadata": {},
      "outputs": [
        {
          "data": {
            "application/vnd.microsoft.datawrangler.viewer.v0+json": {
              "columns": [
                {
                  "name": "index",
                  "rawType": "int64",
                  "type": "integer"
                },
                {
                  "name": "genre",
                  "rawType": "object",
                  "type": "string"
                },
                {
                  "name": "total_shows",
                  "rawType": "int64",
                  "type": "integer"
                },
                {
                  "name": "percent_of_total",
                  "rawType": "float64",
                  "type": "float"
                }
              ],
              "ref": "1480148f-695a-483c-9eda-c71ee44c80bf",
              "rows": [
                [
                  "0",
                  "International Movies",
                  "2752",
                  "14.24"
                ],
                [
                  "1",
                  "Dramas",
                  "2427",
                  "12.56"
                ],
                [
                  "2",
                  "Comedies",
                  "1674",
                  "8.66"
                ],
                [
                  "3",
                  "International TV Shows",
                  "1351",
                  "6.99"
                ],
                [
                  "4",
                  "Documentaries",
                  "869",
                  "4.5"
                ],
                [
                  "5",
                  "Action & Adventure",
                  "859",
                  "4.45"
                ]
              ],
              "shape": {
                "columns": 3,
                "rows": 6
              }
            },
            "text/html": [
              "<div>\n",
              "<style scoped>\n",
              "    .dataframe tbody tr th:only-of-type {\n",
              "        vertical-align: middle;\n",
              "    }\n",
              "\n",
              "    .dataframe tbody tr th {\n",
              "        vertical-align: top;\n",
              "    }\n",
              "\n",
              "    .dataframe thead th {\n",
              "        text-align: right;\n",
              "    }\n",
              "</style>\n",
              "<table border=\"1\" class=\"dataframe\">\n",
              "  <thead>\n",
              "    <tr style=\"text-align: right;\">\n",
              "      <th></th>\n",
              "      <th>genre</th>\n",
              "      <th>total_shows</th>\n",
              "      <th>percent_of_total</th>\n",
              "    </tr>\n",
              "  </thead>\n",
              "  <tbody>\n",
              "    <tr>\n",
              "      <th>0</th>\n",
              "      <td>International Movies</td>\n",
              "      <td>2752</td>\n",
              "      <td>14.24</td>\n",
              "    </tr>\n",
              "    <tr>\n",
              "      <th>1</th>\n",
              "      <td>Dramas</td>\n",
              "      <td>2427</td>\n",
              "      <td>12.56</td>\n",
              "    </tr>\n",
              "    <tr>\n",
              "      <th>2</th>\n",
              "      <td>Comedies</td>\n",
              "      <td>1674</td>\n",
              "      <td>8.66</td>\n",
              "    </tr>\n",
              "    <tr>\n",
              "      <th>3</th>\n",
              "      <td>International TV Shows</td>\n",
              "      <td>1351</td>\n",
              "      <td>6.99</td>\n",
              "    </tr>\n",
              "    <tr>\n",
              "      <th>4</th>\n",
              "      <td>Documentaries</td>\n",
              "      <td>869</td>\n",
              "      <td>4.50</td>\n",
              "    </tr>\n",
              "    <tr>\n",
              "      <th>5</th>\n",
              "      <td>Action &amp; Adventure</td>\n",
              "      <td>859</td>\n",
              "      <td>4.45</td>\n",
              "    </tr>\n",
              "  </tbody>\n",
              "</table>\n",
              "</div>"
            ],
            "text/plain": [
              "                    genre  total_shows  percent_of_total\n",
              "0    International Movies         2752             14.24\n",
              "1                  Dramas         2427             12.56\n",
              "2                Comedies         1674              8.66\n",
              "3  International TV Shows         1351              6.99\n",
              "4           Documentaries          869              4.50\n",
              "5      Action & Adventure          859              4.45"
            ]
          },
          "execution_count": 48,
          "metadata": {},
          "output_type": "execute_result"
        }
      ],
      "source": [
        "con = duckdb.connect('netflix_final.duckdb')\n",
        "\n",
        "query = \"\"\"\n",
        "SELECT \n",
        "    g.name AS genre,\n",
        "    COUNT(sg.show_id) AS total_shows,\n",
        "    ROUND(\n",
        "        100.0 * COUNT(sg.show_id) / SUM(COUNT(sg.show_id)) OVER (), 2\n",
        "    ) AS percent_of_total\n",
        "FROM genres g\n",
        "JOIN show_genres sg ON g.id = sg.genre_id\n",
        "GROUP BY g.name\n",
        "ORDER BY percent_of_total DESC\n",
        "LIMIT 6;\n",
        "\"\"\"\n",
        "\n",
        "result = con.sql(query).df()\n",
        "result"
      ]
    },
    {
      "cell_type": "code",
      "execution_count": 49,
      "metadata": {},
      "outputs": [
        {
          "data": {
            "image/png": "[encoded data removed]",
            "text/plain": [
              "<Figure size 900x600 with 1 Axes>"
            ]
          },
          "metadata": {},
          "output_type": "display_data"
        }
      ],
      "source": [
        "sns.set_style(\"white\")\n",
        "plt.figure(figsize=(9, 6))\n",
        "\n",
        "colors = sns.color_palette(\"husl\", len(result))\n",
        "bars = plt.barh(result['genre'], result['percent_of_total'], color=colors)\n",
        "\n",
        "for i, (bar, value) in enumerate(zip(bars, result['percent_of_total'])):\n",
        "    plt.text(value + 0.3, i, f'{value}%', \n",
        "             va='center', fontsize=10, fontweight='bold')\n",
        "\n",
        "plt.xlabel('Percentage of total (%)', fontsize=12, fontweight='bold')\n",
        "plt.ylabel('Genre', fontsize=12, fontweight='bold')\n",
        "plt.title('Top 6 Netflix genres by number of shows', fontsize=14, fontweight='bold', pad=20)\n",
        "plt.xlim(0, max(result['percent_of_total']) + 5)\n",
        "plt.gca().invert_yaxis()\n",
        "sns.despine()\n",
        "plt.tight_layout()\n",
        "\n",
        "plt.show()"
      ]
    },
    {
      "cell_type": "code",
      "execution_count": 50,
      "metadata": {},
      "outputs": [],
      "source": [
        "con.close()"
      ]
    },
    {
      "cell_type": "markdown",
      "metadata": {},
      "source": [
        "---"
      ]
    },
    {
      "cell_type": "markdown",
      "metadata": {},
      "source": [
        "**Top 3 countries by number of releases in 2000 and 2020**"
      ]
    },
    {
      "cell_type": "code",
      "execution_count": 51,
      "metadata": {},
      "outputs": [
        {
          "data": {
            "application/vnd.microsoft.datawrangler.viewer.v0+json": {
              "columns": [
                {
                  "name": "index",
                  "rawType": "int64",
                  "type": "integer"
                },
                {
                  "name": "release_year",
                  "rawType": "int32",
                  "type": "integer"
                },
                {
                  "name": "country",
                  "rawType": "object",
                  "type": "string"
                },
                {
                  "name": "total_shows",
                  "rawType": "int64",
                  "type": "integer"
                },
                {
                  "name": "rank",
                  "rawType": "int64",
                  "type": "integer"
                }
              ],
              "ref": "a6459103-abb8-4025-a24a-df691cd6077c",
              "rows": [
                [
                  "0",
                  "2000",
                  "United States",
                  "26",
                  "1"
                ],
                [
                  "1",
                  "2000",
                  "India",
                  "7",
                  "2"
                ],
                [
                  "2",
                  "2000",
                  "United Kingdom",
                  "4",
                  "3"
                ],
                [
                  "3",
                  "2020",
                  "United States",
                  "384",
                  "1"
                ],
                [
                  "4",
                  "2020",
                  "India",
                  "77",
                  "2"
                ],
                [
                  "5",
                  "2020",
                  "United Kingdom",
                  "68",
                  "3"
                ]
              ],
              "shape": {
                "columns": 4,
                "rows": 6
              }
            },
            "text/html": [
              "<div>\n",
              "<style scoped>\n",
              "    .dataframe tbody tr th:only-of-type {\n",
              "        vertical-align: middle;\n",
              "    }\n",
              "\n",
              "    .dataframe tbody tr th {\n",
              "        vertical-align: top;\n",
              "    }\n",
              "\n",
              "    .dataframe thead th {\n",
              "        text-align: right;\n",
              "    }\n",
              "</style>\n",
              "<table border=\"1\" class=\"dataframe\">\n",
              "  <thead>\n",
              "    <tr style=\"text-align: right;\">\n",
              "      <th></th>\n",
              "      <th>release_year</th>\n",
              "      <th>country</th>\n",
              "      <th>total_shows</th>\n",
              "      <th>rank</th>\n",
              "    </tr>\n",
              "  </thead>\n",
              "  <tbody>\n",
              "    <tr>\n",
              "      <th>0</th>\n",
              "      <td>2000</td>\n",
              "      <td>United States</td>\n",
              "      <td>26</td>\n",
              "      <td>1</td>\n",
              "    </tr>\n",
              "    <tr>\n",
              "      <th>1</th>\n",
              "      <td>2000</td>\n",
              "      <td>India</td>\n",
              "      <td>7</td>\n",
              "      <td>2</td>\n",
              "    </tr>\n",
              "    <tr>\n",
              "      <th>2</th>\n",
              "      <td>2000</td>\n",
              "      <td>United Kingdom</td>\n",
              "      <td>4</td>\n",
              "      <td>3</td>\n",
              "    </tr>\n",
              "    <tr>\n",
              "      <th>3</th>\n",
              "      <td>2020</td>\n",
              "      <td>United States</td>\n",
              "      <td>384</td>\n",
              "      <td>1</td>\n",
              "    </tr>\n",
              "    <tr>\n",
              "      <th>4</th>\n",
              "      <td>2020</td>\n",
              "      <td>India</td>\n",
              "      <td>77</td>\n",
              "      <td>2</td>\n",
              "    </tr>\n",
              "    <tr>\n",
              "      <th>5</th>\n",
              "      <td>2020</td>\n",
              "      <td>United Kingdom</td>\n",
              "      <td>68</td>\n",
              "      <td>3</td>\n",
              "    </tr>\n",
              "  </tbody>\n",
              "</table>\n",
              "</div>"
            ],
            "text/plain": [
              "   release_year         country  total_shows  rank\n",
              "0          2000   United States           26     1\n",
              "1          2000           India            7     2\n",
              "2          2000  United Kingdom            4     3\n",
              "3          2020   United States          384     1\n",
              "4          2020           India           77     2\n",
              "5          2020  United Kingdom           68     3"
            ]
          },
          "execution_count": 51,
          "metadata": {},
          "output_type": "execute_result"
        }
      ],
      "source": [
        "con = duckdb.connect('netflix_final.duckdb')\n",
        "\n",
        "query = \"\"\"\n",
        "SELECT \n",
        "    release_year,\n",
        "    c.name AS country,\n",
        "    COUNT(sc.show_id) AS total_shows,\n",
        "    RANK() OVER (PARTITION BY release_year ORDER BY COUNT(sc.show_id) DESC) AS rank\n",
        "FROM shows s\n",
        "JOIN show_countries sc ON s.show_id = sc.show_id\n",
        "JOIN countries c ON sc.country_id = c.id\n",
        "WHERE release_year IN (2000, 2020)\n",
        "GROUP BY release_year, c.name\n",
        "HAVING release_year IS NOT NULL\n",
        "QUALIFY rank <= 3\n",
        "ORDER BY release_year, rank;\n",
        "\"\"\"\n",
        "result = con.sql(query).df()\n",
        "result"
      ]
    },
    {
      "cell_type": "code",
      "execution_count": 52,
      "metadata": {},
      "outputs": [
        {
          "data": {
            "image/png": "[encoded data removed]",
            "text/plain": [
              "<Figure size 900x600 with 2 Axes>"
            ]
          },
          "metadata": {},
          "output_type": "display_data"
        }
      ],
      "source": [
        "data_2000 = result[result['release_year'] == 2000]\n",
        "data_2020 = result[result['release_year'] == 2020]\n",
        "\n",
        "sns.set_style(\"white\")\n",
        "fig, (ax1, ax2) = plt.subplots(2, 1, figsize=(9, 6))\n",
        "\n",
        "# Chart for 2000\n",
        "colors_2000 = sns.color_palette(\"husl\", len(data_2000))\n",
        "bars1 = ax1.barh(data_2000['country'], data_2000['total_shows'], color=colors_2000)\n",
        "for i, (bar, value) in enumerate(zip(bars1, data_2000['total_shows'])):\n",
        "    ax1.text(value + 0.5, i, f'{value}', va='center', fontsize=10, fontweight='bold')\n",
        "ax1.set_xlabel('Number of shows', fontsize=12, fontweight='bold')\n",
        "ax1.set_ylabel('Country', fontsize=12, fontweight='bold')\n",
        "ax1.set_title('Top 3 countries in 2000', fontsize=13, fontweight='bold', pad=15)\n",
        "ax1.invert_yaxis()\n",
        "sns.despine(ax=ax1)\n",
        "\n",
        "# Chart for 2020\n",
        "colors_2020 = sns.color_palette(\"husl\", len(data_2020))\n",
        "bars2 = ax2.barh(data_2020['country'], data_2020['total_shows'], color=colors_2020)\n",
        "for i, (bar, value) in enumerate(zip(bars2, data_2020['total_shows'])):\n",
        "    ax2.text(value + 5, i, f'{value}', va='center', fontsize=10, fontweight='bold')\n",
        "ax2.set_xlabel('Number of shows', fontsize=12, fontweight='bold')\n",
        "ax2.set_ylabel('Country', fontsize=12, fontweight='bold')\n",
        "ax2.set_title('Top 3 countries in 2020', fontsize=13, fontweight='bold', pad=15)\n",
        "ax2.invert_yaxis()\n",
        "sns.despine(ax=ax2)\n",
        "\n",
        "plt.suptitle('Comparison of top 3 countries in Netflix content production', \n",
        "             fontsize=15, fontweight='bold', y=0.995)\n",
        "plt.tight_layout()\n",
        "\n",
        "plt.show()"
      ]
    },
    {
      "cell_type": "code",
      "execution_count": 53,
      "metadata": {},
      "outputs": [],
      "source": [
        "con.close()"
      ]
    }
  ],
  "metadata": {
    "colab": {
      "provenance": []
    },
    "kernelspec": {
      "display_name": "Python 3",
      "name": "python3"
    },
    "language_info": {
      "codemirror_mode": {
        "name": "ipython",
        "version": 3
      },
      "file_extension": ".py",
      "mimetype": "text/x-python",
      "name": "python",
      "nbconvert_exporter": "python",
      "pygments_lexer": "ipython3",
      "version": "3.13.5"
    }
  },
  "nbformat": 4,
  "nbformat_minor": 0
}
